{
 "cells": [
  {
   "cell_type": "markdown",
   "metadata": {
    "colab_type": "text",
    "id": "view-in-github"
   },
   "source": [
    "<a href=\"https://colab.research.google.com/github/pkn9663/Cognixia_Assignment/blob/master/ANN_ChurnModeling.ipynb\" target=\"_parent\"><img src=\"https://colab.research.google.com/assets/colab-badge.svg\" alt=\"Open In Colab\"/></a>"
   ]
  },
  {
   "cell_type": "markdown",
   "metadata": {
    "colab_type": "text",
    "id": "1gUJKrHuPbeX"
   },
   "source": [
    "[<img src= \"https://keras.io/img/logo.png\" width = 200></img>](https://keras.io/)"
   ]
  },
  {
   "cell_type": "markdown",
   "metadata": {
    "colab_type": "text",
    "id": "WJMuPx32EKxC"
   },
   "source": [
    "[**Churn Modelling**](https://keras.io/api/layers/core_layers/dense/)\n",
    "\n",
    "1. Create three layers (Input, Hidden and Output)\n",
    "2. Use Rectifier (RELU) activation function in input and hidden layer\n",
    "3. Use sigmoid activation function at the output layer\n",
    "4. Find the accuracy of the model using confusion matrix\n",
    "\n"
   ]
  },
  {
   "cell_type": "code",
   "execution_count": null,
   "metadata": {
    "colab": {},
    "colab_type": "code",
    "id": "1uwVgWnhDbmV"
   },
   "outputs": [],
   "source": [
    "# Importing libraries\n",
    "import pandas as pd\n",
    "import numpy as np"
   ]
  },
  {
   "cell_type": "code",
   "execution_count": null,
   "metadata": {
    "colab": {},
    "colab_type": "code",
    "id": "gPQvcHsJFD_O"
   },
   "outputs": [],
   "source": [
    "dataset = pd.read_csv(\"/content/drive/My Drive/Colab Notebooks/Python Basics/Churn_Modelling.csv\")"
   ]
  },
  {
   "cell_type": "code",
   "execution_count": 5,
   "metadata": {
    "colab": {
     "base_uri": "https://localhost:8080/",
     "height": 370
    },
    "colab_type": "code",
    "id": "D7N6txV0FUlL",
    "outputId": "ad0591a2-e390-42f1-ed7c-e19632872b30"
   },
   "outputs": [
    {
     "name": "stdout",
     "output_type": "stream",
     "text": [
      "<class 'pandas.core.frame.DataFrame'>\n",
      "RangeIndex: 10000 entries, 0 to 9999\n",
      "Data columns (total 14 columns):\n",
      " #   Column           Non-Null Count  Dtype  \n",
      "---  ------           --------------  -----  \n",
      " 0   RowNumber        10000 non-null  int64  \n",
      " 1   CustomerId       10000 non-null  int64  \n",
      " 2   Surname          10000 non-null  object \n",
      " 3   CreditScore      10000 non-null  int64  \n",
      " 4   Geography        10000 non-null  object \n",
      " 5   Gender           10000 non-null  object \n",
      " 6   Age              10000 non-null  int64  \n",
      " 7   Tenure           10000 non-null  int64  \n",
      " 8   Balance          10000 non-null  float64\n",
      " 9   NumOfProducts    10000 non-null  int64  \n",
      " 10  HasCrCard        10000 non-null  int64  \n",
      " 11  IsActiveMember   10000 non-null  int64  \n",
      " 12  EstimatedSalary  10000 non-null  float64\n",
      " 13  Exited           10000 non-null  int64  \n",
      "dtypes: float64(2), int64(9), object(3)\n",
      "memory usage: 1.1+ MB\n"
     ]
    }
   ],
   "source": [
    "dataset.info()"
   ]
  },
  {
   "cell_type": "code",
   "execution_count": null,
   "metadata": {
    "colab": {},
    "colab_type": "code",
    "id": "Q1XUbeurFVur"
   },
   "outputs": [],
   "source": [
    "X = dataset.iloc[: , 3:-1].values\n",
    "y = dataset.iloc[: , 13:].values"
   ]
  },
  {
   "cell_type": "code",
   "execution_count": null,
   "metadata": {
    "colab": {},
    "colab_type": "code",
    "id": "g8MnFDCeFkdp"
   },
   "outputs": [],
   "source": [
    "# handelling categorical data in independent variable using OneHotEncoder\n",
    "from sklearn.preprocessing import LabelEncoder , OneHotEncoder , StandardScaler\n",
    "from sklearn.compose import ColumnTransformer"
   ]
  },
  {
   "cell_type": "code",
   "execution_count": 14,
   "metadata": {
    "colab": {
     "base_uri": "https://localhost:8080/",
     "height": 134
    },
    "colab_type": "code",
    "id": "mByUh8qRGmmo",
    "outputId": "69a86297-ed42-49ce-876e-4ed9ab131721"
   },
   "outputs": [
    {
     "data": {
      "text/plain": [
       "array([[619, 'France', 'Female', ..., 1, 1, 101348.88],\n",
       "       [608, 'Spain', 'Female', ..., 0, 1, 112542.58],\n",
       "       [502, 'France', 'Female', ..., 1, 0, 113931.57],\n",
       "       ...,\n",
       "       [709, 'France', 'Female', ..., 0, 1, 42085.58],\n",
       "       [772, 'Germany', 'Male', ..., 1, 0, 92888.52],\n",
       "       [792, 'France', 'Female', ..., 1, 0, 38190.78]], dtype=object)"
      ]
     },
     "execution_count": 14,
     "metadata": {
      "tags": []
     },
     "output_type": "execute_result"
    }
   ],
   "source": [
    "X"
   ]
  },
  {
   "cell_type": "code",
   "execution_count": null,
   "metadata": {
    "colab": {},
    "colab_type": "code",
    "id": "MwtywFGuF9gi"
   },
   "outputs": [],
   "source": [
    "le = LabelEncoder()\n",
    "ohe = OneHotEncoder()\n",
    "scalar = StandardScaler()"
   ]
  },
  {
   "cell_type": "code",
   "execution_count": null,
   "metadata": {
    "colab": {},
    "colab_type": "code",
    "id": "UPu2LVH3GHPV"
   },
   "outputs": [],
   "source": [
    "X[: , 1] = le.fit_transform(X[: , 1])\n",
    "X[: , 2] = le.fit_transform(X[: , 2])"
   ]
  },
  {
   "cell_type": "code",
   "execution_count": 16,
   "metadata": {
    "colab": {
     "base_uri": "https://localhost:8080/",
     "height": 134
    },
    "colab_type": "code",
    "id": "L_tB14t3GfdY",
    "outputId": "584c7c1f-127e-46fb-9e66-96c340f262cb"
   },
   "outputs": [
    {
     "data": {
      "text/plain": [
       "array([[619, 0, 0, ..., 1, 1, 101348.88],\n",
       "       [608, 2, 0, ..., 0, 1, 112542.58],\n",
       "       [502, 0, 0, ..., 1, 0, 113931.57],\n",
       "       ...,\n",
       "       [709, 0, 0, ..., 0, 1, 42085.58],\n",
       "       [772, 1, 1, ..., 1, 0, 92888.52],\n",
       "       [792, 0, 0, ..., 1, 0, 38190.78]], dtype=object)"
      ]
     },
     "execution_count": 16,
     "metadata": {
      "tags": []
     },
     "output_type": "execute_result"
    }
   ],
   "source": [
    "X"
   ]
  },
  {
   "cell_type": "code",
   "execution_count": null,
   "metadata": {
    "colab": {},
    "colab_type": "code",
    "id": "hbReXmYlGtGy"
   },
   "outputs": [],
   "source": [
    "ct = ColumnTransformer(transformers=[(\"encoder\" ,  ohe , [1])], remainder= \"passthrough\")"
   ]
  },
  {
   "cell_type": "code",
   "execution_count": null,
   "metadata": {
    "colab": {},
    "colab_type": "code",
    "id": "itOeCZclHDB7"
   },
   "outputs": [],
   "source": [
    "X = np.array(ct.fit_transform(X))"
   ]
  },
  {
   "cell_type": "code",
   "execution_count": null,
   "metadata": {
    "colab": {},
    "colab_type": "code",
    "id": "P1TFZ2nUHhh-"
   },
   "outputs": [],
   "source": [
    "X = X[: , 1:]"
   ]
  },
  {
   "cell_type": "code",
   "execution_count": 34,
   "metadata": {
    "colab": {
     "base_uri": "https://localhost:8080/",
     "height": 34
    },
    "colab_type": "code",
    "id": "eKQ7OEMTHog1",
    "outputId": "8348f1ab-9ba7-4f37-8a7b-7a52981659a3"
   },
   "outputs": [
    {
     "data": {
      "text/plain": [
       "(10000, 11)"
      ]
     },
     "execution_count": 34,
     "metadata": {
      "tags": []
     },
     "output_type": "execute_result"
    }
   ],
   "source": [
    "X.shape"
   ]
  },
  {
   "cell_type": "code",
   "execution_count": null,
   "metadata": {
    "colab": {},
    "colab_type": "code",
    "id": "jl9sJtlzHrRa"
   },
   "outputs": [],
   "source": [
    "# splitting the dataset into training & testing dataset\n",
    "from sklearn.model_selection import train_test_split\n",
    "X_train , X_test , y_train , y_test = train_test_split(X ,y ,test_size = 0.25 , random_state = 0)"
   ]
  },
  {
   "cell_type": "code",
   "execution_count": 27,
   "metadata": {
    "colab": {
     "base_uri": "https://localhost:8080/",
     "height": 34
    },
    "colab_type": "code",
    "id": "ia8JINOhIAiC",
    "outputId": "a1c4beed-ac19-4ed5-d83e-349e7c6c67f2"
   },
   "outputs": [
    {
     "name": "stdout",
     "output_type": "stream",
     "text": [
      "7500 2500\n"
     ]
    }
   ],
   "source": [
    "# feature scalling the training & testing set\n",
    "X_train = scalar.fit_transform(X_train)\n",
    "X_test = scalar.transform(X_test)\n",
    "print(len(X_train) , len(X_test))"
   ]
  },
  {
   "cell_type": "markdown",
   "metadata": {
    "colab_type": "text",
    "id": "gL14keb6Ie4S"
   },
   "source": [
    "# **Deep Learning**"
   ]
  },
  {
   "cell_type": "code",
   "execution_count": 31,
   "metadata": {
    "colab": {
     "base_uri": "https://localhost:8080/",
     "height": 34
    },
    "colab_type": "code",
    "id": "GuJzRzuoIUat",
    "outputId": "c7da2efd-fc43-49c4-b78b-f9041bd8e084"
   },
   "outputs": [
    {
     "name": "stderr",
     "output_type": "stream",
     "text": [
      "Using TensorFlow backend.\n"
     ]
    }
   ],
   "source": [
    "import keras"
   ]
  },
  {
   "cell_type": "code",
   "execution_count": null,
   "metadata": {
    "colab": {},
    "colab_type": "code",
    "id": "79RbETUgIy6_"
   },
   "outputs": [],
   "source": [
    "from keras.models import Sequential\n",
    "from keras.layers import Dense"
   ]
  },
  {
   "cell_type": "code",
   "execution_count": null,
   "metadata": {
    "colab": {},
    "colab_type": "code",
    "id": "sNG_ANsaJM00"
   },
   "outputs": [],
   "source": [
    "# creating a model\n",
    "classifier = Sequential()"
   ]
  },
  {
   "cell_type": "code",
   "execution_count": 38,
   "metadata": {
    "colab": {
     "base_uri": "https://localhost:8080/",
     "height": 34
    },
    "colab_type": "code",
    "id": "0LEJsZS6Jhrt",
    "outputId": "fa57bee1-a526-493b-eb1f-1d233fca5a0c"
   },
   "outputs": [
    {
     "name": "stdout",
     "output_type": "stream",
     "text": [
      "(None, 6) (None, 11)\n"
     ]
    }
   ],
   "source": [
    "# Adding input layer & 1st Hidden Layor\n",
    "classifier.add(Dense(round(11/2) , input_shape = (11 , ) , activation= 'relu'))\n",
    "print(classifier.output_shape , classifier.input_shape)"
   ]
  },
  {
   "cell_type": "code",
   "execution_count": null,
   "metadata": {
    "colab": {},
    "colab_type": "code",
    "id": "A3ukbGZ-KB5d"
   },
   "outputs": [],
   "source": [
    "# now adding 2nd Hidden layer\n",
    "classifier.add(Dense(round(11/2) , activation= 'relu'))"
   ]
  },
  {
   "cell_type": "code",
   "execution_count": null,
   "metadata": {
    "colab": {},
    "colab_type": "code",
    "id": "FzAKZN33KyGq"
   },
   "outputs": [],
   "source": [
    "# now adding output layer\n",
    "classifier.add(Dense(1 , activation= 'sigmoid'))"
   ]
  },
  {
   "cell_type": "markdown",
   "metadata": {
    "colab_type": "text",
    "id": "d-CPwOaXMbAW"
   },
   "source": [
    "[Loss Reference](https://colab.research.google.com/drive/1v9CVrJq9EzVO6ouWtomnueK2t2rR4n6B#scrollTo=_4S4bEpxLHLe&line=2&uniqifier=1)"
   ]
  },
  {
   "cell_type": "code",
   "execution_count": null,
   "metadata": {
    "colab": {},
    "colab_type": "code",
    "id": "_4S4bEpxLHLe"
   },
   "outputs": [],
   "source": [
    "# compiling the ANN this makes the ANN is ready to use\n",
    "classifier.compile(optimizer='adam' , loss = 'binary_crossentropy' , metrics= ['accuracy'])"
   ]
  },
  {
   "cell_type": "code",
   "execution_count": 44,
   "metadata": {
    "colab": {
     "base_uri": "https://localhost:8080/",
     "height": 1000
    },
    "colab_type": "code",
    "id": "7VfcFulaLLXY",
    "outputId": "f16af92c-24dc-4619-9abb-e89a06791f79"
   },
   "outputs": [
    {
     "name": "stdout",
     "output_type": "stream",
     "text": [
      "Epoch 1/100\n",
      "7500/7500 [==============================] - 1s 192us/step - loss: 0.5076 - accuracy: 0.7749\n",
      "Epoch 2/100\n",
      "7500/7500 [==============================] - 1s 128us/step - loss: 0.4137 - accuracy: 0.8257\n",
      "Epoch 3/100\n",
      "7500/7500 [==============================] - 1s 132us/step - loss: 0.3873 - accuracy: 0.8432\n",
      "Epoch 4/100\n",
      "7500/7500 [==============================] - 1s 128us/step - loss: 0.3639 - accuracy: 0.8505\n",
      "Epoch 5/100\n",
      "7500/7500 [==============================] - 1s 134us/step - loss: 0.3539 - accuracy: 0.8541\n",
      "Epoch 6/100\n",
      "7500/7500 [==============================] - 1s 131us/step - loss: 0.3498 - accuracy: 0.8553\n",
      "Epoch 7/100\n",
      "7500/7500 [==============================] - 1s 135us/step - loss: 0.3481 - accuracy: 0.8595\n",
      "Epoch 8/100\n",
      "7500/7500 [==============================] - 1s 133us/step - loss: 0.3462 - accuracy: 0.8564\n",
      "Epoch 9/100\n",
      "7500/7500 [==============================] - 1s 127us/step - loss: 0.3449 - accuracy: 0.8579\n",
      "Epoch 10/100\n",
      "7500/7500 [==============================] - 1s 132us/step - loss: 0.3424 - accuracy: 0.8604\n",
      "Epoch 11/100\n",
      "7500/7500 [==============================] - 1s 130us/step - loss: 0.3429 - accuracy: 0.8601\n",
      "Epoch 12/100\n",
      "7500/7500 [==============================] - 1s 130us/step - loss: 0.3430 - accuracy: 0.8591\n",
      "Epoch 13/100\n",
      "7500/7500 [==============================] - 1s 128us/step - loss: 0.3412 - accuracy: 0.8609\n",
      "Epoch 14/100\n",
      "7500/7500 [==============================] - 1s 128us/step - loss: 0.3426 - accuracy: 0.8595\n",
      "Epoch 15/100\n",
      "7500/7500 [==============================] - 1s 128us/step - loss: 0.3406 - accuracy: 0.8599\n",
      "Epoch 16/100\n",
      "7500/7500 [==============================] - 1s 127us/step - loss: 0.3409 - accuracy: 0.8604\n",
      "Epoch 17/100\n",
      "7500/7500 [==============================] - 1s 131us/step - loss: 0.3405 - accuracy: 0.8623\n",
      "Epoch 18/100\n",
      "7500/7500 [==============================] - 1s 137us/step - loss: 0.3400 - accuracy: 0.8628\n",
      "Epoch 19/100\n",
      "7500/7500 [==============================] - 1s 131us/step - loss: 0.3399 - accuracy: 0.8609\n",
      "Epoch 20/100\n",
      "7500/7500 [==============================] - 1s 139us/step - loss: 0.3397 - accuracy: 0.8632\n",
      "Epoch 21/100\n",
      "7500/7500 [==============================] - 1s 140us/step - loss: 0.3392 - accuracy: 0.8636\n",
      "Epoch 22/100\n",
      "7500/7500 [==============================] - 1s 132us/step - loss: 0.3396 - accuracy: 0.8639\n",
      "Epoch 23/100\n",
      "7500/7500 [==============================] - 1s 137us/step - loss: 0.3388 - accuracy: 0.8640\n",
      "Epoch 24/100\n",
      "7500/7500 [==============================] - 1s 136us/step - loss: 0.3391 - accuracy: 0.8612\n",
      "Epoch 25/100\n",
      "7500/7500 [==============================] - 1s 137us/step - loss: 0.3394 - accuracy: 0.8604\n",
      "Epoch 26/100\n",
      "7500/7500 [==============================] - 1s 138us/step - loss: 0.3371 - accuracy: 0.8629\n",
      "Epoch 27/100\n",
      "7500/7500 [==============================] - 1s 139us/step - loss: 0.3384 - accuracy: 0.8636\n",
      "Epoch 28/100\n",
      "7500/7500 [==============================] - 1s 136us/step - loss: 0.3376 - accuracy: 0.8641\n",
      "Epoch 29/100\n",
      "7500/7500 [==============================] - 1s 138us/step - loss: 0.3379 - accuracy: 0.8601\n",
      "Epoch 30/100\n",
      "7500/7500 [==============================] - 1s 138us/step - loss: 0.3371 - accuracy: 0.8627\n",
      "Epoch 31/100\n",
      "7500/7500 [==============================] - 1s 140us/step - loss: 0.3378 - accuracy: 0.8609\n",
      "Epoch 32/100\n",
      "7500/7500 [==============================] - 1s 142us/step - loss: 0.3366 - accuracy: 0.8617\n",
      "Epoch 33/100\n",
      "7500/7500 [==============================] - 1s 139us/step - loss: 0.3370 - accuracy: 0.8639\n",
      "Epoch 34/100\n",
      "7500/7500 [==============================] - 1s 140us/step - loss: 0.3352 - accuracy: 0.8627\n",
      "Epoch 35/100\n",
      "7500/7500 [==============================] - 1s 138us/step - loss: 0.3358 - accuracy: 0.8617\n",
      "Epoch 36/100\n",
      "7500/7500 [==============================] - 1s 140us/step - loss: 0.3359 - accuracy: 0.8640\n",
      "Epoch 37/100\n",
      "7500/7500 [==============================] - 1s 136us/step - loss: 0.3355 - accuracy: 0.8631\n",
      "Epoch 38/100\n",
      "7500/7500 [==============================] - 1s 139us/step - loss: 0.3355 - accuracy: 0.8633\n",
      "Epoch 39/100\n",
      "7500/7500 [==============================] - 1s 139us/step - loss: 0.3356 - accuracy: 0.8633\n",
      "Epoch 40/100\n",
      "7500/7500 [==============================] - 1s 140us/step - loss: 0.3352 - accuracy: 0.8627\n",
      "Epoch 41/100\n",
      "7500/7500 [==============================] - 1s 140us/step - loss: 0.3342 - accuracy: 0.8633\n",
      "Epoch 42/100\n",
      "7500/7500 [==============================] - 1s 138us/step - loss: 0.3347 - accuracy: 0.8601\n",
      "Epoch 43/100\n",
      "7500/7500 [==============================] - 1s 137us/step - loss: 0.3339 - accuracy: 0.8632\n",
      "Epoch 44/100\n",
      "7500/7500 [==============================] - 1s 135us/step - loss: 0.3349 - accuracy: 0.8615\n",
      "Epoch 45/100\n",
      "7500/7500 [==============================] - 1s 137us/step - loss: 0.3341 - accuracy: 0.8621\n",
      "Epoch 46/100\n",
      "7500/7500 [==============================] - 1s 134us/step - loss: 0.3343 - accuracy: 0.8643\n",
      "Epoch 47/100\n",
      "7500/7500 [==============================] - 1s 136us/step - loss: 0.3345 - accuracy: 0.8641\n",
      "Epoch 48/100\n",
      "7500/7500 [==============================] - 1s 141us/step - loss: 0.3337 - accuracy: 0.8653\n",
      "Epoch 49/100\n",
      "7500/7500 [==============================] - 1s 137us/step - loss: 0.3328 - accuracy: 0.8627\n",
      "Epoch 50/100\n",
      "7500/7500 [==============================] - 1s 135us/step - loss: 0.3328 - accuracy: 0.8631\n",
      "Epoch 51/100\n",
      "7500/7500 [==============================] - 1s 136us/step - loss: 0.3336 - accuracy: 0.8632\n",
      "Epoch 52/100\n",
      "7500/7500 [==============================] - 1s 137us/step - loss: 0.3328 - accuracy: 0.8633\n",
      "Epoch 53/100\n",
      "7500/7500 [==============================] - 1s 137us/step - loss: 0.3337 - accuracy: 0.8624\n",
      "Epoch 54/100\n",
      "7500/7500 [==============================] - 1s 132us/step - loss: 0.3330 - accuracy: 0.8631\n",
      "Epoch 55/100\n",
      "7500/7500 [==============================] - 1s 134us/step - loss: 0.3323 - accuracy: 0.8629\n",
      "Epoch 56/100\n",
      "7500/7500 [==============================] - 1s 134us/step - loss: 0.3327 - accuracy: 0.8609\n",
      "Epoch 57/100\n",
      "7500/7500 [==============================] - 1s 135us/step - loss: 0.3322 - accuracy: 0.8633\n",
      "Epoch 58/100\n",
      "7500/7500 [==============================] - 1s 129us/step - loss: 0.3326 - accuracy: 0.8635\n",
      "Epoch 59/100\n",
      "7500/7500 [==============================] - 1s 133us/step - loss: 0.3321 - accuracy: 0.8623\n",
      "Epoch 60/100\n",
      "7500/7500 [==============================] - 1s 131us/step - loss: 0.3322 - accuracy: 0.8631\n",
      "Epoch 61/100\n",
      "7500/7500 [==============================] - 1s 135us/step - loss: 0.3317 - accuracy: 0.8643\n",
      "Epoch 62/100\n",
      "7500/7500 [==============================] - 1s 135us/step - loss: 0.3314 - accuracy: 0.8625\n",
      "Epoch 63/100\n",
      "7500/7500 [==============================] - 1s 134us/step - loss: 0.3310 - accuracy: 0.8632\n",
      "Epoch 64/100\n",
      "7500/7500 [==============================] - 1s 136us/step - loss: 0.3317 - accuracy: 0.8615\n",
      "Epoch 65/100\n",
      "7500/7500 [==============================] - 1s 139us/step - loss: 0.3315 - accuracy: 0.8617\n",
      "Epoch 66/100\n",
      "7500/7500 [==============================] - 1s 140us/step - loss: 0.3307 - accuracy: 0.8620\n",
      "Epoch 67/100\n",
      "7500/7500 [==============================] - 1s 143us/step - loss: 0.3305 - accuracy: 0.8625\n",
      "Epoch 68/100\n",
      "7500/7500 [==============================] - 1s 138us/step - loss: 0.3310 - accuracy: 0.8632\n",
      "Epoch 69/100\n",
      "7500/7500 [==============================] - 1s 131us/step - loss: 0.3309 - accuracy: 0.8631\n",
      "Epoch 70/100\n",
      "7500/7500 [==============================] - 1s 140us/step - loss: 0.3308 - accuracy: 0.8623\n",
      "Epoch 71/100\n",
      "7500/7500 [==============================] - 1s 147us/step - loss: 0.3314 - accuracy: 0.8625\n",
      "Epoch 72/100\n",
      "7500/7500 [==============================] - 1s 152us/step - loss: 0.3306 - accuracy: 0.8643\n",
      "Epoch 73/100\n",
      "7500/7500 [==============================] - 1s 150us/step - loss: 0.3316 - accuracy: 0.8612\n",
      "Epoch 74/100\n",
      "7500/7500 [==============================] - 1s 139us/step - loss: 0.3316 - accuracy: 0.8633\n",
      "Epoch 75/100\n",
      "7500/7500 [==============================] - 1s 142us/step - loss: 0.3307 - accuracy: 0.8652\n",
      "Epoch 76/100\n",
      "7500/7500 [==============================] - 1s 145us/step - loss: 0.3311 - accuracy: 0.8637\n",
      "Epoch 77/100\n",
      "7500/7500 [==============================] - 1s 140us/step - loss: 0.3314 - accuracy: 0.8644\n",
      "Epoch 78/100\n",
      "7500/7500 [==============================] - 1s 147us/step - loss: 0.3303 - accuracy: 0.8645\n",
      "Epoch 79/100\n",
      "7500/7500 [==============================] - 1s 147us/step - loss: 0.3300 - accuracy: 0.8639\n",
      "Epoch 80/100\n",
      "7500/7500 [==============================] - 1s 149us/step - loss: 0.3314 - accuracy: 0.8645\n",
      "Epoch 81/100\n",
      "7500/7500 [==============================] - 1s 157us/step - loss: 0.3306 - accuracy: 0.8621\n",
      "Epoch 82/100\n",
      "7500/7500 [==============================] - 1s 157us/step - loss: 0.3303 - accuracy: 0.8636\n",
      "Epoch 83/100\n",
      "7500/7500 [==============================] - 1s 148us/step - loss: 0.3305 - accuracy: 0.8612\n",
      "Epoch 84/100\n",
      "7500/7500 [==============================] - 1s 157us/step - loss: 0.3306 - accuracy: 0.8632\n",
      "Epoch 85/100\n",
      "7500/7500 [==============================] - 1s 152us/step - loss: 0.3299 - accuracy: 0.8629\n",
      "Epoch 86/100\n",
      "7500/7500 [==============================] - 1s 152us/step - loss: 0.3296 - accuracy: 0.8644\n",
      "Epoch 87/100\n",
      "7500/7500 [==============================] - 1s 156us/step - loss: 0.3308 - accuracy: 0.8637\n",
      "Epoch 88/100\n",
      "7500/7500 [==============================] - 1s 157us/step - loss: 0.3308 - accuracy: 0.8637\n",
      "Epoch 89/100\n",
      "7500/7500 [==============================] - 1s 139us/step - loss: 0.3306 - accuracy: 0.8659\n",
      "Epoch 90/100\n",
      "7500/7500 [==============================] - 1s 147us/step - loss: 0.3300 - accuracy: 0.8665\n",
      "Epoch 91/100\n",
      "7500/7500 [==============================] - 1s 152us/step - loss: 0.3299 - accuracy: 0.8629\n",
      "Epoch 92/100\n",
      "7500/7500 [==============================] - 1s 157us/step - loss: 0.3297 - accuracy: 0.8640\n",
      "Epoch 93/100\n",
      "7500/7500 [==============================] - 1s 157us/step - loss: 0.3308 - accuracy: 0.8649\n",
      "Epoch 94/100\n",
      "7500/7500 [==============================] - 1s 170us/step - loss: 0.3301 - accuracy: 0.8635\n",
      "Epoch 95/100\n",
      "7500/7500 [==============================] - 1s 167us/step - loss: 0.3300 - accuracy: 0.8635\n",
      "Epoch 96/100\n",
      "7500/7500 [==============================] - 1s 170us/step - loss: 0.3293 - accuracy: 0.8647\n",
      "Epoch 97/100\n",
      "7500/7500 [==============================] - 1s 171us/step - loss: 0.3298 - accuracy: 0.8631\n",
      "Epoch 98/100\n",
      "7500/7500 [==============================] - 1s 176us/step - loss: 0.3286 - accuracy: 0.8655\n",
      "Epoch 99/100\n",
      "7500/7500 [==============================] - 1s 169us/step - loss: 0.3295 - accuracy: 0.8640\n",
      "Epoch 100/100\n",
      "7500/7500 [==============================] - 1s 176us/step - loss: 0.3290 - accuracy: 0.8656\n"
     ]
    },
    {
     "data": {
      "text/plain": [
       "<keras.callbacks.callbacks.History at 0x7f9930f74390>"
      ]
     },
     "execution_count": 44,
     "metadata": {
      "tags": []
     },
     "output_type": "execute_result"
    }
   ],
   "source": [
    "# fitting the training models\n",
    "classifier.fit(X_train , y_train , batch_size= 10 , epochs= 100)"
   ]
  },
  {
   "cell_type": "code",
   "execution_count": null,
   "metadata": {
    "colab": {},
    "colab_type": "code",
    "id": "tkIpWAxXNpkR"
   },
   "outputs": [],
   "source": [
    "# predicting\n",
    "y_pred = classifier.predict(X_test) * 100"
   ]
  },
  {
   "cell_type": "code",
   "execution_count": 49,
   "metadata": {
    "colab": {
     "base_uri": "https://localhost:8080/",
     "height": 134
    },
    "colab_type": "code",
    "id": "vpN9-ny2OALE",
    "outputId": "04d7ec94-689b-4afa-ac10-7de01aeadf49"
   },
   "outputs": [
    {
     "name": "stdout",
     "output_type": "stream",
     "text": [
      "[[22.797308 ]\n",
      " [26.993252 ]\n",
      " [15.704823 ]\n",
      " ...\n",
      " [24.642832 ]\n",
      " [ 8.3767395]\n",
      " [ 6.269966 ]]\n"
     ]
    }
   ],
   "source": [
    "print(y_pred)"
   ]
  },
  {
   "cell_type": "code",
   "execution_count": null,
   "metadata": {
    "colab": {},
    "colab_type": "code",
    "id": "avHXEW4GOJ3B"
   },
   "outputs": [],
   "source": [
    "# this is helpful to convert the y_pred into Binary for visualising\n",
    "y_pred = (y_pred > 50)"
   ]
  },
  {
   "cell_type": "code",
   "execution_count": 51,
   "metadata": {
    "colab": {
     "base_uri": "https://localhost:8080/",
     "height": 50
    },
    "colab_type": "code",
    "id": "QGOKdBEaOY-x",
    "outputId": "8ffd58e0-c1a8-4d04-f98a-d6fde9fe5984"
   },
   "outputs": [
    {
     "data": {
      "text/plain": [
       "array([[1937,   54],\n",
       "       [ 298,  211]])"
      ]
     },
     "execution_count": 51,
     "metadata": {
      "tags": []
     },
     "output_type": "execute_result"
    }
   ],
   "source": [
    "# Visualising the Result\n",
    "from sklearn.metrics import confusion_matrix\n",
    "cm = confusion_matrix(y_test , y_pred)\n",
    "cm"
   ]
  },
  {
   "cell_type": "code",
   "execution_count": 56,
   "metadata": {
    "colab": {
     "base_uri": "https://localhost:8080/",
     "height": 282
    },
    "colab_type": "code",
    "id": "qevG9v8BOmce",
    "outputId": "66946513-fcda-4d51-a793-264b8fbb7b64"
   },
   "outputs": [
    {
     "data": {
      "text/plain": [
       "<matplotlib.axes._subplots.AxesSubplot at 0x7f9925638400>"
      ]
     },
     "execution_count": 56,
     "metadata": {
      "tags": []
     },
     "output_type": "execute_result"
    },
    {
     "data": {
      "image/png": "[encoded data removed]",
      "text/plain": [
       "<Figure size 432x288 with 2 Axes>"
      ]
     },
     "metadata": {
      "needs_background": "light",
      "tags": []
     },
     "output_type": "display_data"
    }
   ],
   "source": [
    "import pandas.util.testing as tm\n",
    "import seaborn as sns\n",
    "sns.heatmap(cm , annot = True)"
   ]
  }
 ],
 "metadata": {
  "colab": {
   "authorship_tag": "ABX9TyMsFI3nlczpUqzrC6B15Jyt",
   "collapsed_sections": [],
   "include_colab_link": true,
   "mount_file_id": "1v9CVrJq9EzVO6ouWtomnueK2t2rR4n6B",
   "name": "ANN_ChurnModeling.ipynb",
   "provenance": []
  },
  "kernelspec": {
   "display_name": "Python 3",
   "language": "python",
   "name": "python3"
  },
  "language_info": {
   "codemirror_mode": {
    "name": "ipython",
    "version": 3
   },
   "file_extension": ".py",
   "mimetype": "text/x-python",
   "name": "python",
   "nbconvert_exporter": "python",
   "pygments_lexer": "ipython3",
   "version": "3.7.4"
  }
 },
 "nbformat": 4,
 "nbformat_minor": 4
}
