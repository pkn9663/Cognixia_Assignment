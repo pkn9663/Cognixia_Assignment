{
 "cells": [
  {
   "cell_type": "markdown",
   "metadata": {
    "colab_type": "text",
    "id": "view-in-github"
   },
   "source": [
    "<a href=\"https://colab.research.google.com/github/pkn9663/Cognixia_Assignment/blob/master/ANN_UCIDataset.ipynb\" target=\"_parent\"><img src=\"https://colab.research.google.com/assets/colab-badge.svg\" alt=\"Open In Colab\"/></a>"
   ]
  },
  {
   "cell_type": "code",
   "execution_count": 1,
   "metadata": {
    "colab": {},
    "colab_type": "code",
    "id": "9SBfMJ0DtBti"
   },
   "outputs": [],
   "source": [
    "# importing libraries\n",
    "import pandas as pd\n",
    "import numpy as np"
   ]
  },
  {
   "cell_type": "code",
   "execution_count": 2,
   "metadata": {
    "colab": {},
    "colab_type": "code",
    "id": "pQtq1BmmtVIi"
   },
   "outputs": [],
   "source": [
    "import os"
   ]
  },
  {
   "cell_type": "code",
   "execution_count": 3,
   "metadata": {
    "colab": {
     "base_uri": "https://localhost:8080/",
     "height": 34
    },
    "colab_type": "code",
    "id": "smSve4mVtZCo",
    "outputId": "1f14f98e-de71-407d-a86d-acf798beb5d7"
   },
   "outputs": [
    {
     "data": {
      "text/plain": [
       "'C:\\\\Users\\\\prave\\\\OneDrive\\\\Documents\\\\GitHub\\\\Cognixia_Assignment'"
      ]
     },
     "execution_count": 3,
     "metadata": {},
     "output_type": "execute_result"
    }
   ],
   "source": [
    "os.getcwd()"
   ]
  },
  {
   "cell_type": "code",
   "execution_count": 4,
   "metadata": {
    "colab": {},
    "colab_type": "code",
    "id": "eQZ_5DbDty1Q"
   },
   "outputs": [],
   "source": [
    "files = [file for file in os.listdir('C:\\\\Users\\\\prave\\\\OneDrive\\\\Documents\\\\GitHub\\\\Cognixia_Assignment\\\\Datasets')]"
   ]
  },
  {
   "cell_type": "code",
   "execution_count": 5,
   "metadata": {
    "colab": {
     "base_uri": "https://localhost:8080/",
     "height": 34
    },
    "colab_type": "code",
    "id": "4R22AmJHt3Jf",
    "outputId": "3f3fe6f3-3abc-4f52-b44b-94528af3b6b6"
   },
   "outputs": [
    {
     "data": {
      "text/plain": [
       "['Book1.xlsx', 'Book2.xlsx', 'Book3.xlsx', 'Book4.xlsx', 'Book5.xlsx']"
      ]
     },
     "execution_count": 5,
     "metadata": {},
     "output_type": "execute_result"
    }
   ],
   "source": [
    "files"
   ]
  },
  {
   "cell_type": "code",
   "execution_count": 7,
   "metadata": {
    "colab": {
     "base_uri": "https://localhost:8080/",
     "height": 195
    },
    "colab_type": "code",
    "id": "sHtjniVbt4B_",
    "outputId": "1783a253-a026-4ddc-f4b3-ea2203da1e87"
   },
   "outputs": [
    {
     "data": {
      "text/html": [
       "<div>\n",
       "<style scoped>\n",
       "    .dataframe tbody tr th:only-of-type {\n",
       "        vertical-align: middle;\n",
       "    }\n",
       "\n",
       "    .dataframe tbody tr th {\n",
       "        vertical-align: top;\n",
       "    }\n",
       "\n",
       "    .dataframe thead th {\n",
       "        text-align: right;\n",
       "    }\n",
       "</style>\n",
       "<table border=\"1\" class=\"dataframe\">\n",
       "  <thead>\n",
       "    <tr style=\"text-align: right;\">\n",
       "      <th></th>\n",
       "      <th>AT</th>\n",
       "      <th>V</th>\n",
       "      <th>AP</th>\n",
       "      <th>RH</th>\n",
       "      <th>PE</th>\n",
       "    </tr>\n",
       "  </thead>\n",
       "  <tbody>\n",
       "    <tr>\n",
       "      <th>0</th>\n",
       "      <td>14.96</td>\n",
       "      <td>41.76</td>\n",
       "      <td>1024.07</td>\n",
       "      <td>73.17</td>\n",
       "      <td>463.26</td>\n",
       "    </tr>\n",
       "    <tr>\n",
       "      <th>1</th>\n",
       "      <td>25.18</td>\n",
       "      <td>62.96</td>\n",
       "      <td>1020.04</td>\n",
       "      <td>59.08</td>\n",
       "      <td>444.37</td>\n",
       "    </tr>\n",
       "    <tr>\n",
       "      <th>2</th>\n",
       "      <td>5.11</td>\n",
       "      <td>39.40</td>\n",
       "      <td>1012.16</td>\n",
       "      <td>92.14</td>\n",
       "      <td>488.56</td>\n",
       "    </tr>\n",
       "    <tr>\n",
       "      <th>3</th>\n",
       "      <td>20.86</td>\n",
       "      <td>57.32</td>\n",
       "      <td>1010.24</td>\n",
       "      <td>76.64</td>\n",
       "      <td>446.48</td>\n",
       "    </tr>\n",
       "    <tr>\n",
       "      <th>4</th>\n",
       "      <td>10.82</td>\n",
       "      <td>37.50</td>\n",
       "      <td>1009.23</td>\n",
       "      <td>96.62</td>\n",
       "      <td>473.90</td>\n",
       "    </tr>\n",
       "  </tbody>\n",
       "</table>\n",
       "</div>"
      ],
      "text/plain": [
       "      AT      V       AP     RH      PE\n",
       "0  14.96  41.76  1024.07  73.17  463.26\n",
       "1  25.18  62.96  1020.04  59.08  444.37\n",
       "2   5.11  39.40  1012.16  92.14  488.56\n",
       "3  20.86  57.32  1010.24  76.64  446.48\n",
       "4  10.82  37.50  1009.23  96.62  473.90"
      ]
     },
     "execution_count": 7,
     "metadata": {},
     "output_type": "execute_result"
    }
   ],
   "source": [
    "df = pd.DataFrame()\n",
    "for file in files:\n",
    "  df1 = pd.read_excel('C:\\\\Users\\\\prave\\\\OneDrive\\\\Documents\\\\GitHub\\\\Cognixia_Assignment\\\\Datasets\\\\'+file)\n",
    "  data = pd.concat([df , df1])\n",
    "data.head()"
   ]
  },
  {
   "cell_type": "code",
   "execution_count": 8,
   "metadata": {
    "colab": {
     "base_uri": "https://localhost:8080/",
     "height": 118
    },
    "colab_type": "code",
    "id": "A8G6pwwpv8Hk",
    "outputId": "b4dc223f-ad8c-496c-a82f-a0017d97da79"
   },
   "outputs": [
    {
     "data": {
      "text/plain": [
       "AT    9568\n",
       "V     9568\n",
       "AP    9568\n",
       "RH    9568\n",
       "PE    9568\n",
       "dtype: int64"
      ]
     },
     "execution_count": 8,
     "metadata": {},
     "output_type": "execute_result"
    }
   ],
   "source": [
    "data.count()"
   ]
  },
  {
   "cell_type": "code",
   "execution_count": 9,
   "metadata": {
    "colab": {
     "base_uri": "https://localhost:8080/",
     "height": 34
    },
    "colab_type": "code",
    "id": "mM_mbe8Bwf9D",
    "outputId": "0edf3858-c822-4f48-8d00-db1f4ff60338"
   },
   "outputs": [
    {
     "name": "stdout",
     "output_type": "stream",
     "text": [
      "7176 2392\n"
     ]
    }
   ],
   "source": [
    "from sklearn.model_selection import train_test_split\n",
    "X_train , X_test , y_train , y_test = train_test_split(data.iloc[: , 0:4].values , \n",
    "                                                       data.iloc[: , 4:].values , \n",
    "                                                       test_size = 0.25 , \n",
    "                                                       random_state = 0)\n",
    "print(len(X_train) , len(X_test))"
   ]
  },
  {
   "cell_type": "code",
   "execution_count": 22,
   "metadata": {
    "colab": {},
    "colab_type": "code",
    "id": "3rTtRT47ww6W"
   },
   "outputs": [
    {
     "data": {
      "text/plain": [
       "'\\nfrom sklearn.preprocessing import StandardScaler\\nscalar = StandardScaler()\\n\\nX_train = scalar.fit_transform(X_train)\\nX_test = scalar.transform(X_test)\\n'"
      ]
     },
     "execution_count": 22,
     "metadata": {},
     "output_type": "execute_result"
    }
   ],
   "source": [
    "\"\"\"\n",
    "from sklearn.preprocessing import StandardScaler\n",
    "scalar = StandardScaler()\n",
    "\n",
    "X_train = scalar.fit_transform(X_train)\n",
    "X_test = scalar.transform(X_test)\n",
    "\"\"\""
   ]
  },
  {
   "cell_type": "code",
   "execution_count": 10,
   "metadata": {
    "colab": {
     "base_uri": "https://localhost:8080/",
     "height": 34
    },
    "colab_type": "code",
    "id": "lrRohMs7z9-f",
    "outputId": "429a9379-5f5d-43ea-9c24-5bbff76b63e4"
   },
   "outputs": [
    {
     "data": {
      "text/plain": [
       "(9568, 4)"
      ]
     },
     "execution_count": 10,
     "metadata": {},
     "output_type": "execute_result"
    }
   ],
   "source": [
    "(data.iloc[: , 0:4].values).shape"
   ]
  },
  {
   "cell_type": "markdown",
   "metadata": {
    "colab_type": "text",
    "id": "rvxsrv59zS4V"
   },
   "source": [
    "# ANN Part"
   ]
  },
  {
   "cell_type": "code",
   "execution_count": 11,
   "metadata": {
    "colab": {},
    "colab_type": "code",
    "id": "0ljuWdcdzNoP"
   },
   "outputs": [
    {
     "name": "stderr",
     "output_type": "stream",
     "text": [
      "Using TensorFlow backend.\n"
     ]
    }
   ],
   "source": [
    "import keras\n",
    "from keras.models import Sequential\n",
    "from keras.layers import Dense\n",
    "model = Sequential()"
   ]
  },
  {
   "cell_type": "code",
   "execution_count": 12,
   "metadata": {
    "colab": {},
    "colab_type": "code",
    "id": "CUjt-4KVzQrv"
   },
   "outputs": [],
   "source": [
    "model.add(Dense(units = 6 , activation= 'relu'))\n",
    "model.add(Dense(units = 6 , activation= 'relu'))"
   ]
  },
  {
   "cell_type": "code",
   "execution_count": 13,
   "metadata": {
    "colab": {},
    "colab_type": "code",
    "id": "l__xALYY0MaS"
   },
   "outputs": [],
   "source": [
    "model.add(Dense(units = 1 , activation= None))"
   ]
  },
  {
   "cell_type": "code",
   "execution_count": 16,
   "metadata": {
    "colab": {},
    "colab_type": "code",
    "id": "1Sqzy3l_0XGK"
   },
   "outputs": [],
   "source": [
    "model.compile(optimizer= 'adam' , loss = 'mse' , metrics= ['mse'])"
   ]
  },
  {
   "cell_type": "code",
   "execution_count": 17,
   "metadata": {
    "colab": {
     "base_uri": "https://localhost:8080/",
     "height": 1000
    },
    "colab_type": "code",
    "id": "3DPeDTVu2JjQ",
    "outputId": "c9ec9bb6-3219-4148-ddb8-9fe8fc204e99"
   },
   "outputs": [
    {
     "name": "stdout",
     "output_type": "stream",
     "text": [
      "Epoch 1/100\n",
      "7176/7176 [==============================] - ETA: 0s - loss: 9157.8449 - mse: 9157.8525  - 1s 93us/step - loss: 8563.6520 - mse: 8563.6592\n",
      "Epoch 2/100\n",
      "7176/7176 [==============================] - 1s 82us/step - loss: 379.2265 - mse: 379.2266: 0s - loss: 402.3837 - mse: 4\n",
      "Epoch 3/100\n",
      "7176/7176 [==============================] - 1s 83us/step - loss: 283.6635 - mse: 283.6636: 0s - loss: 320.3796 - mse:\n",
      "Epoch 4/100\n",
      "7176/7176 [==============================] - 1s 84us/step - loss: 193.4492 - mse: 193.4492: 0s - loss: 244.3409 - ms\n",
      "Epoch 5/100\n",
      "7176/7176 [==============================] - 1s 83us/step - loss: 120.1192 - mse: 120.1192: 0s - loss: 134.5528 - mse:\n",
      "Epoch 6/100\n",
      "7176/7176 [==============================] - 1s 83us/step - loss: 72.7653 - mse: 72.7653A: 0s - loss: 85.6663 - mse: - ETA: 0s - loss: 73.5321 - mse: 73.532\n",
      "Epoch 7/100\n",
      "7176/7176 [==============================] - 1s 83us/step - loss: 50.3274 - mse: 50.3275: 0s - loss: 51.2029 - mse: 51.20\n",
      "Epoch 8/100\n",
      "7176/7176 [==============================] - ETA: 0s - loss: 43.4752 - mse: 43.475 - 1s 82us/step - loss: 43.0287 - mse: 43.0287\n",
      "Epoch 9/100\n",
      "7176/7176 [==============================] - ETA: 0s - loss: 39.1462 - mse: 39.1462- ETA: 0s - loss: 40.9512 - mse - 1s 84us/step - loss: 38.8790 - mse: 38.8790\n",
      "Epoch 10/100\n",
      "7176/7176 [==============================] - 1s 83us/step - loss: 37.2405 - mse: 37.2405: 0s - loss: 37.8668 - mse: \n",
      "Epoch 11/100\n",
      "7176/7176 [==============================] - 1s 86us/step - loss: 35.2036 - mse: 35.2036: 0s - loss: 34.5236 - mse: 3\n",
      "Epoch 12/100\n",
      "7176/7176 [==============================] - 1s 104us/step - loss: 33.6933 - mse: 33.6933\n",
      "Epoch 13/100\n",
      "7176/7176 [==============================] - 1s 95us/step - loss: 33.0182 - mse: 33.0182: 0s - loss: 33.1370 - mse: 33.137\n",
      "Epoch 14/100\n",
      "7176/7176 [==============================] - 1s 94us/step - loss: 31.9610 - mse: 31.9610\n",
      "Epoch 15/100\n",
      "7176/7176 [==============================] - 1s 89us/step - loss: 31.1266 - mse: 31.1265\n",
      "Epoch 16/100\n",
      "7176/7176 [==============================] - ETA: 0s - loss: 30.7405 - mse: 30.7405- ETA: 0s - loss: 32.5076 - ms - 1s 89us/step - loss: 30.5816 - mse: 30.5816\n",
      "Epoch 17/100\n",
      "7176/7176 [==============================] - 1s 89us/step - loss: 29.2330 - mse: 29.2330\n",
      "Epoch 18/100\n",
      "7176/7176 [==============================] - 1s 89us/step - loss: 29.1028 - mse: 29.1028: 0s - loss: 29.0678 - mse: 29.06\n",
      "Epoch 19/100\n",
      "7176/7176 [==============================] - 1s 90us/step - loss: 29.0190 - mse: 29.0190\n",
      "Epoch 20/100\n",
      "7176/7176 [==============================] - 1s 89us/step - loss: 28.2230 - mse: 28.2230\n",
      "Epoch 21/100\n",
      "7176/7176 [==============================] - 1s 89us/step - loss: 28.6763 - mse: 28.6763\n",
      "Epoch 22/100\n",
      "7176/7176 [==============================] - 1s 89us/step - loss: 28.3918 - mse: 28.3918\n",
      "Epoch 23/100\n",
      "7176/7176 [==============================] - 1s 89us/step - loss: 28.1432 - mse: 28.1432\n",
      "Epoch 24/100\n",
      "7176/7176 [==============================] - 1s 84us/step - loss: 28.0598 - mse: 28.0598\n",
      "Epoch 25/100\n",
      "7176/7176 [==============================] - 1s 82us/step - loss: 28.0052 - mse: 28.0052\n",
      "Epoch 26/100\n",
      "7176/7176 [==============================] - 1s 83us/step - loss: 27.8245 - mse: 27.8245\n",
      "Epoch 27/100\n",
      "7176/7176 [==============================] - 1s 81us/step - loss: 27.6646 - mse: 27.6647\n",
      "Epoch 28/100\n",
      "7176/7176 [==============================] - 1s 89us/step - loss: 27.8005 - mse: 27.8005\n",
      "Epoch 29/100\n",
      "7176/7176 [==============================] - 1s 89us/step - loss: 27.4688 - mse: 27.4688: 0s - loss: 27.2781 - mse: 27.27\n",
      "Epoch 30/100\n",
      "7176/7176 [==============================] - 1s 90us/step - loss: 27.9914 - mse: 27.9914\n",
      "Epoch 31/100\n",
      "7176/7176 [==============================] - 1s 90us/step - loss: 28.3392 - mse: 28.3392: 0s - loss: 29.5210 - mse:\n",
      "Epoch 32/100\n",
      "7176/7176 [==============================] - 1s 89us/step - loss: 28.4543 - mse: 28.4543\n",
      "Epoch 33/100\n",
      "7176/7176 [==============================] - 1s 89us/step - loss: 27.3074 - mse: 27.3074\n",
      "Epoch 34/100\n",
      "7176/7176 [==============================] - 1s 91us/step - loss: 28.7322 - mse: 28.7322\n",
      "Epoch 35/100\n",
      "7176/7176 [==============================] - 1s 89us/step - loss: 27.4209 - mse: 27.4209\n",
      "Epoch 36/100\n",
      "7176/7176 [==============================] - 1s 98us/step - loss: 27.4364 - mse: 27.4364\n",
      "Epoch 37/100\n",
      "7176/7176 [==============================] - 1s 106us/step - loss: 27.9764 - mse: 27.9764\n",
      "Epoch 38/100\n",
      "7176/7176 [==============================] - 1s 89us/step - loss: 27.9033 - mse: 27.9033\n",
      "Epoch 39/100\n",
      "7176/7176 [==============================] - 1s 91us/step - loss: 27.6309 - mse: 27.6309\n",
      "Epoch 40/100\n",
      "7176/7176 [==============================] - 1s 92us/step - loss: 27.4377 - mse: 27.4377\n",
      "Epoch 41/100\n",
      "7176/7176 [==============================] - 1s 96us/step - loss: 27.9100 - mse: 27.9100\n",
      "Epoch 42/100\n",
      "7176/7176 [==============================] - 1s 93us/step - loss: 27.7907 - mse: 27.7907\n",
      "Epoch 43/100\n",
      "7176/7176 [==============================] - 1s 91us/step - loss: 27.2953 - mse: 27.2953\n",
      "Epoch 44/100\n",
      "7176/7176 [==============================] - 1s 92us/step - loss: 27.6075 - mse: 27.6075\n",
      "Epoch 45/100\n",
      "7176/7176 [==============================] - 1s 97us/step - loss: 27.9122 - mse: 27.9122\n",
      "Epoch 46/100\n",
      "7176/7176 [==============================] - 1s 94us/step - loss: 27.7791 - mse: 27.7792\n",
      "Epoch 47/100\n",
      "7176/7176 [==============================] - 1s 89us/step - loss: 27.3669 - mse: 27.3669: 0s - loss: 26.6909 - mse: \n",
      "Epoch 48/100\n",
      "7176/7176 [==============================] - 1s 90us/step - loss: 27.2530 - mse: 27.2530\n",
      "Epoch 49/100\n",
      "7176/7176 [==============================] - 1s 96us/step - loss: 27.8896 - mse: 27.8896\n",
      "Epoch 50/100\n",
      "7176/7176 [==============================] - 1s 93us/step - loss: 27.6508 - mse: 27.6508\n",
      "Epoch 51/100\n",
      "7176/7176 [==============================] - 1s 91us/step - loss: 27.4637 - mse: 27.4637\n",
      "Epoch 52/100\n",
      "7176/7176 [==============================] - 1s 91us/step - loss: 27.9812 - mse: 27.9813\n",
      "Epoch 53/100\n",
      "7176/7176 [==============================] - 1s 92us/step - loss: 27.3734 - mse: 27.3734\n",
      "Epoch 54/100\n",
      "7176/7176 [==============================] - 1s 94us/step - loss: 28.6111 - mse: 28.6111\n",
      "Epoch 55/100\n",
      "7176/7176 [==============================] - 1s 105us/step - loss: 27.5783 - mse: 27.5783\n",
      "Epoch 56/100\n",
      "7176/7176 [==============================] - 1s 97us/step - loss: 27.9092 - mse: 27.9092\n",
      "Epoch 57/100\n",
      "7176/7176 [==============================] - 1s 94us/step - loss: 27.7538 - mse: 27.7538: 0s - loss: 27.7425 - mse: 27\n",
      "Epoch 58/100\n",
      "7176/7176 [==============================] - 1s 96us/step - loss: 27.9637 - mse: 27.9637\n",
      "Epoch 59/100\n",
      "7176/7176 [==============================] - 1s 94us/step - loss: 27.4410 - mse: 27.4410\n",
      "Epoch 60/100\n",
      "7176/7176 [==============================] - 1s 104us/step - loss: 28.3390 - mse: 28.3391\n",
      "Epoch 61/100\n",
      "7176/7176 [==============================] - 1s 107us/step - loss: 27.6311 - mse: 27.6311\n",
      "Epoch 62/100\n",
      "7176/7176 [==============================] - 1s 107us/step - loss: 27.5855 - mse: 27.5855\n",
      "Epoch 63/100\n",
      "7176/7176 [==============================] - 1s 94us/step - loss: 27.7107 - mse: 27.7107\n",
      "Epoch 64/100\n",
      "7176/7176 [==============================] - 1s 93us/step - loss: 27.7910 - mse: 27.7910\n",
      "Epoch 65/100\n",
      "7176/7176 [==============================] - 1s 92us/step - loss: 28.2480 - mse: 28.2480\n",
      "Epoch 66/100\n",
      "7176/7176 [==============================] - 1s 94us/step - loss: 27.5427 - mse: 27.5427: 0s - loss: 27.3290 - mse: 27.32\n",
      "Epoch 67/100\n",
      "7176/7176 [==============================] - 1s 94us/step - loss: 27.3172 - mse: 27.3172\n",
      "Epoch 68/100\n",
      "7176/7176 [==============================] - 1s 98us/step - loss: 28.0155 - mse: 28.0155: 0s - loss: 26.7886 - mse:\n",
      "Epoch 69/100\n",
      "7176/7176 [==============================] - 1s 102us/step - loss: 27.7215 - mse: 27.7216\n",
      "Epoch 70/100\n",
      "7176/7176 [==============================] - 1s 96us/step - loss: 27.5913 - mse: 27.5914\n",
      "Epoch 71/100\n",
      "7176/7176 [==============================] - 1s 94us/step - loss: 27.5655 - mse: 27.5655\n",
      "Epoch 72/100\n",
      "7176/7176 [==============================] - 1s 95us/step - loss: 27.9001 - mse: 27.9001\n",
      "Epoch 73/100\n",
      "7176/7176 [==============================] - 1s 103us/step - loss: 28.0814 - mse: 28.0814 0s - loss: 29.6712 - \n",
      "Epoch 74/100\n",
      "7176/7176 [==============================] - 1s 106us/step - loss: 27.7326 - mse: 27.7327\n",
      "Epoch 75/100\n",
      "7176/7176 [==============================] - 1s 105us/step - loss: 27.5956 - mse: 27.5956 0s - loss: 28.5255 - mse: 28\n",
      "Epoch 76/100\n",
      "7176/7176 [==============================] - 1s 96us/step - loss: 27.9396 - mse: 27.9396\n",
      "Epoch 77/100\n",
      "7176/7176 [==============================] - 1s 93us/step - loss: 27.3181 - mse: 27.3181: 0s - loss: 27.3505 - mse: 27.350\n",
      "Epoch 78/100\n",
      "7176/7176 [==============================] - 1s 95us/step - loss: 27.4278 - mse: 27.4278\n",
      "Epoch 79/100\n",
      "7176/7176 [==============================] - 1s 94us/step - loss: 27.8353 - mse: 27.8353\n",
      "Epoch 80/100\n",
      "7176/7176 [==============================] - 1s 95us/step - loss: 28.0368 - mse: 28.0368\n",
      "Epoch 81/100\n",
      "7176/7176 [==============================] - 1s 94us/step - loss: 27.6372 - mse: 27.6372\n",
      "Epoch 82/100\n",
      "7176/7176 [==============================] - 1s 94us/step - loss: 27.8089 - mse: 27.8089\n",
      "Epoch 83/100\n",
      "7176/7176 [==============================] - 1s 119us/step - loss: 27.5740 - mse: 27.5741\n",
      "Epoch 84/100\n",
      "7176/7176 [==============================] - 1s 104us/step - loss: 28.1385 - mse: 28.1385\n",
      "Epoch 85/100\n",
      "7176/7176 [==============================] - 1s 96us/step - loss: 28.1667 - mse: 28.1667\n",
      "Epoch 86/100\n",
      "7176/7176 [==============================] - 1s 94us/step - loss: 27.7431 - mse: 27.7431\n",
      "Epoch 87/100\n",
      "7176/7176 [==============================] - 1s 103us/step - loss: 27.8791 - mse: 27.8791\n",
      "Epoch 88/100\n",
      "7176/7176 [==============================] - 1s 94us/step - loss: 27.5388 - mse: 27.5387\n",
      "Epoch 89/100\n",
      "7176/7176 [==============================] - 1s 93us/step - loss: 27.3109 - mse: 27.3109: 0s - loss: 26.6289 - ms\n",
      "Epoch 90/100\n",
      "7176/7176 [==============================] - 1s 91us/step - loss: 27.7258 - mse: 27.7258\n",
      "Epoch 91/100\n",
      "7176/7176 [==============================] - 1s 92us/step - loss: 28.1208 - mse: 28.1208\n",
      "Epoch 92/100\n",
      "7176/7176 [==============================] - 1s 104us/step - loss: 27.8914 - mse: 27.8914\n",
      "Epoch 93/100\n",
      "7176/7176 [==============================] - 1s 95us/step - loss: 27.4952 - mse: 27.4952\n",
      "Epoch 94/100\n",
      "7176/7176 [==============================] - 1s 91us/step - loss: 28.0835 - mse: 28.0835\n",
      "Epoch 95/100\n",
      "7176/7176 [==============================] - 1s 102us/step - loss: 27.7433 - mse: 27.7433\n",
      "Epoch 96/100\n",
      "7176/7176 [==============================] - 1s 97us/step - loss: 27.9485 - mse: 27.9485\n",
      "Epoch 97/100\n",
      "7176/7176 [==============================] - 1s 95us/step - loss: 28.1702 - mse: 28.1702\n",
      "Epoch 98/100\n",
      "7176/7176 [==============================] - 1s 93us/step - loss: 28.0943 - mse: 28.0943\n",
      "Epoch 99/100\n",
      "7176/7176 [==============================] - 1s 95us/step - loss: 27.9110 - mse: 27.9110\n",
      "Epoch 100/100\n",
      "7176/7176 [==============================] - 1s 104us/step - loss: 26.9646 - mse: 26.9646\n"
     ]
    },
    {
     "data": {
      "text/plain": [
       "<keras.callbacks.callbacks.History at 0x26835ac52c8>"
      ]
     },
     "execution_count": 17,
     "metadata": {},
     "output_type": "execute_result"
    }
   ],
   "source": [
    "model.fit(X_train , y_train , batch_size = 10 , epochs= 100)"
   ]
  },
  {
   "cell_type": "code",
   "execution_count": 18,
   "metadata": {
    "colab": {},
    "colab_type": "code",
    "id": "TkyG0QUb2SU1"
   },
   "outputs": [],
   "source": [
    "y_pred = model.predict(X_test)"
   ]
  },
  {
   "cell_type": "code",
   "execution_count": 19,
   "metadata": {
    "colab": {
     "base_uri": "https://localhost:8080/",
     "height": 134
    },
    "colab_type": "code",
    "id": "O-4FucjQ5Yjr",
    "outputId": "547e7883-7b0b-46bb-8cc9-7f6b5af05f34"
   },
   "outputs": [
    {
     "data": {
      "text/plain": [
       "array([[431.094  ],\n",
       "       [462.23166],\n",
       "       [465.76437],\n",
       "       ...,\n",
       "       [472.1545 ],\n",
       "       [476.41086],\n",
       "       [440.73196]], dtype=float32)"
      ]
     },
     "execution_count": 19,
     "metadata": {},
     "output_type": "execute_result"
    }
   ],
   "source": [
    "y_pred"
   ]
  },
  {
   "cell_type": "code",
   "execution_count": 20,
   "metadata": {
    "colab": {
     "base_uri": "https://localhost:8080/",
     "height": 134
    },
    "colab_type": "code",
    "id": "x6yIJMPd3Sxl",
    "outputId": "d5c6c594-9e35-4077-d9b0-3e14d51dba67"
   },
   "outputs": [
    {
     "name": "stdout",
     "output_type": "stream",
     "text": [
      "[[431.09399414 431.23      ]\n",
      " [462.23165894 460.01      ]\n",
      " [465.76437378 461.14      ]\n",
      " ...\n",
      " [472.1545105  468.9       ]\n",
      " [476.41085815 473.9       ]\n",
      " [440.73196411 437.07      ]]\n"
     ]
    }
   ],
   "source": [
    "print(np.concatenate((y_pred , y_test),1))"
   ]
  },
  {
   "cell_type": "code",
   "execution_count": 21,
   "metadata": {
    "colab": {
     "base_uri": "https://localhost:8080/",
     "height": 252
    },
    "colab_type": "code",
    "id": "id2Oys2D3T1J",
    "outputId": "3ad8291e-676e-4504-9127-3c9fa1e2b9cf"
   },
   "outputs": [
    {
     "name": "stdout",
     "output_type": "stream",
     "text": [
      "Model: \"sequential_1\"\n",
      "_________________________________________________________________\n",
      "Layer (type)                 Output Shape              Param #   \n",
      "=================================================================\n",
      "dense_1 (Dense)              (None, 6)                 30        \n",
      "_________________________________________________________________\n",
      "dense_2 (Dense)              (None, 6)                 42        \n",
      "_________________________________________________________________\n",
      "dense_3 (Dense)              (None, 1)                 7         \n",
      "=================================================================\n",
      "Total params: 79\n",
      "Trainable params: 79\n",
      "Non-trainable params: 0\n",
      "_________________________________________________________________\n"
     ]
    }
   ],
   "source": [
    "model.summary()"
   ]
  }
 ],
 "metadata": {
  "colab": {
   "authorship_tag": "ABX9TyO2mu8qRbCxw9ysuRh8OE1g",
   "collapsed_sections": [],
   "include_colab_link": true,
   "mount_file_id": "1ZHfozDN2i3YD4ZFG_aiQCJbUIqwEe9CJ",
   "name": "ANN_UCIDataset.ipynb",
   "provenance": []
  },
  "kernelspec": {
   "display_name": "Python 3",
   "language": "python",
   "name": "python3"
  },
  "language_info": {
   "codemirror_mode": {
    "name": "ipython",
    "version": 3
   },
   "file_extension": ".py",
   "mimetype": "text/x-python",
   "name": "python",
   "nbconvert_exporter": "python",
   "pygments_lexer": "ipython3",
   "version": "3.7.4"
  }
 },
 "nbformat": 4,
 "nbformat_minor": 4
}
