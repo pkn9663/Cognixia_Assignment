{
  "nbformat": 4,
  "nbformat_minor": 0,
  "metadata": {
    "colab": {
      "name": "ANN_BreastCancer.ipynb",
      "provenance": [],
      "collapsed_sections": [],
      "authorship_tag": "ABX9TyMBaP8midSDpqF12/uz2w2c",
      "include_colab_link": true
    },
    "kernelspec": {
      "name": "python3",
      "display_name": "Python 3"
    }
  },
  "cells": [
    {
      "cell_type": "markdown",
      "metadata": {
        "id": "view-in-github",
        "colab_type": "text"
      },
      "source": [
        "<a href=\"https://colab.research.google.com/github/pkn9663/Cognixia_Assignment/blob/master/ANN_BreastCancer.ipynb\" target=\"_parent\"><img src=\"https://colab.research.google.com/assets/colab-badge.svg\" alt=\"Open In Colab\"/></a>"
      ]
    },
    {
      "cell_type": "markdown",
      "metadata": {
        "id": "5TPFSZbBo6Ew",
        "colab_type": "text"
      },
      "source": [
        "# Breast Cancer Dataset from Sklearn dataset"
      ]
    },
    {
      "cell_type": "markdown",
      "metadata": {
        "id": "DV16VaOypVOG",
        "colab_type": "text"
      },
      "source": [
        "### Importing libraries"
      ]
    },
    {
      "cell_type": "code",
      "metadata": {
        "id": "zjb2-OT4pndx",
        "colab_type": "code",
        "colab": {}
      },
      "source": [
        "import pandas as pd\n",
        "import numpy as np"
      ],
      "execution_count": 0,
      "outputs": []
    },
    {
      "cell_type": "markdown",
      "metadata": {
        "id": "hhE05Ieqphbt",
        "colab_type": "text"
      },
      "source": [
        "### Loading DataSet"
      ]
    },
    {
      "cell_type": "code",
      "metadata": {
        "id": "mj4whqZ7pAzY",
        "colab_type": "code",
        "colab": {}
      },
      "source": [
        "from sklearn.datasets import load_breast_cancer\n",
        "cancer = load_breast_cancer()"
      ],
      "execution_count": 0,
      "outputs": []
    },
    {
      "cell_type": "code",
      "metadata": {
        "id": "3_qLsRsJp40f",
        "colab_type": "code",
        "outputId": "5775621a-b036-4327-ccec-5936390369a9",
        "colab": {
          "base_uri": "https://localhost:8080/",
          "height": 34
        }
      },
      "source": [
        "dir(cancer)"
      ],
      "execution_count": 3,
      "outputs": [
        {
          "output_type": "execute_result",
          "data": {
            "text/plain": [
              "['DESCR', 'data', 'feature_names', 'filename', 'target', 'target_names']"
            ]
          },
          "metadata": {
            "tags": []
          },
          "execution_count": 3
        }
      ]
    },
    {
      "cell_type": "code",
      "metadata": {
        "id": "hQo-9hpip7Cy",
        "colab_type": "code",
        "colab": {
          "base_uri": "https://localhost:8080/",
          "height": 235
        },
        "outputId": "a9973251-93c0-4320-92b0-38a2a0b211ed"
      },
      "source": [
        "cancer.data"
      ],
      "execution_count": 4,
      "outputs": [
        {
          "output_type": "execute_result",
          "data": {
            "text/plain": [
              "array([[1.799e+01, 1.038e+01, 1.228e+02, ..., 2.654e-01, 4.601e-01,\n",
              "        1.189e-01],\n",
              "       [2.057e+01, 1.777e+01, 1.329e+02, ..., 1.860e-01, 2.750e-01,\n",
              "        8.902e-02],\n",
              "       [1.969e+01, 2.125e+01, 1.300e+02, ..., 2.430e-01, 3.613e-01,\n",
              "        8.758e-02],\n",
              "       ...,\n",
              "       [1.660e+01, 2.808e+01, 1.083e+02, ..., 1.418e-01, 2.218e-01,\n",
              "        7.820e-02],\n",
              "       [2.060e+01, 2.933e+01, 1.401e+02, ..., 2.650e-01, 4.087e-01,\n",
              "        1.240e-01],\n",
              "       [7.760e+00, 2.454e+01, 4.792e+01, ..., 0.000e+00, 2.871e-01,\n",
              "        7.039e-02]])"
            ]
          },
          "metadata": {
            "tags": []
          },
          "execution_count": 4
        }
      ]
    },
    {
      "cell_type": "markdown",
      "metadata": {
        "id": "jVN8ko_ypBax",
        "colab_type": "text"
      },
      "source": [
        "# Splitting Data into training & testing set"
      ]
    },
    {
      "cell_type": "code",
      "metadata": {
        "id": "NdW1MMdqqLO7",
        "colab_type": "code",
        "outputId": "fbcc0a0b-1393-4826-ecd0-da04f02fb973",
        "colab": {
          "base_uri": "https://localhost:8080/",
          "height": 34
        }
      },
      "source": [
        "from sklearn.model_selection import train_test_split\n",
        "X_train , X_test , y_train , y_test = train_test_split(cancer.data , cancer.target , test_size = 0.2 , random_state = 0)\n",
        "print(len(X_train) , len(X_test))"
      ],
      "execution_count": 5,
      "outputs": [
        {
          "output_type": "stream",
          "text": [
            "455 114\n"
          ],
          "name": "stdout"
        }
      ]
    },
    {
      "cell_type": "markdown",
      "metadata": {
        "id": "B1LCj0WJpDJ3",
        "colab_type": "text"
      },
      "source": [
        "# Creating ANN model"
      ]
    },
    {
      "cell_type": "code",
      "metadata": {
        "id": "F8em2OUMpSsG",
        "colab_type": "code",
        "colab": {
          "base_uri": "https://localhost:8080/",
          "height": 34
        },
        "outputId": "268982b6-640d-443d-cf15-da44d5dc9908"
      },
      "source": [
        "import keras\n",
        "from keras.models import Sequential\n",
        "from keras.layers import Dense\n",
        "model = Sequential()"
      ],
      "execution_count": 6,
      "outputs": [
        {
          "output_type": "stream",
          "text": [
            "Using TensorFlow backend.\n"
          ],
          "name": "stderr"
        }
      ]
    },
    {
      "cell_type": "markdown",
      "metadata": {
        "id": "pd3_mlNCq-UH",
        "colab_type": "text"
      },
      "source": [
        "### Adding the input layer & 1st Hidden layor"
      ]
    },
    {
      "cell_type": "code",
      "metadata": {
        "id": "ZCDgbk4xrY0F",
        "colab_type": "code",
        "outputId": "3475e92c-c56c-48c4-bbd3-21e473778523",
        "colab": {
          "base_uri": "https://localhost:8080/",
          "height": 34
        }
      },
      "source": [
        "cancer.data.shape"
      ],
      "execution_count": 7,
      "outputs": [
        {
          "output_type": "execute_result",
          "data": {
            "text/plain": [
              "(569, 30)"
            ]
          },
          "metadata": {
            "tags": []
          },
          "execution_count": 7
        }
      ]
    },
    {
      "cell_type": "code",
      "metadata": {
        "id": "LQpJNUeTq8MC",
        "colab_type": "code",
        "colab": {}
      },
      "source": [
        "model.add(Dense(units = round(30/2), activation= 'relu'))"
      ],
      "execution_count": 0,
      "outputs": []
    },
    {
      "cell_type": "markdown",
      "metadata": {
        "id": "GN79vWILrvCs",
        "colab_type": "text"
      },
      "source": [
        "### Adding 2nd hidden layor"
      ]
    },
    {
      "cell_type": "code",
      "metadata": {
        "id": "IrKyshrzruuS",
        "colab_type": "code",
        "colab": {}
      },
      "source": [
        "model.add(Dense(units = round(30/2) , activation= 'relu'))"
      ],
      "execution_count": 0,
      "outputs": []
    },
    {
      "cell_type": "markdown",
      "metadata": {
        "id": "MtuXY2rQsDZR",
        "colab_type": "text"
      },
      "source": [
        "### Adding Output layor"
      ]
    },
    {
      "cell_type": "code",
      "metadata": {
        "id": "vZp_P3wwrs_W",
        "colab_type": "code",
        "colab": {}
      },
      "source": [
        "model.add(Dense(units = 1 , activation = None))"
      ],
      "execution_count": 0,
      "outputs": []
    },
    {
      "cell_type": "code",
      "metadata": {
        "id": "QnK8NaahsTcu",
        "colab_type": "code",
        "colab": {}
      },
      "source": [
        ""
      ],
      "execution_count": 0,
      "outputs": []
    },
    {
      "cell_type": "markdown",
      "metadata": {
        "id": "HQoIx2KBsVVZ",
        "colab_type": "text"
      },
      "source": [
        "# Training the ANN model"
      ]
    },
    {
      "cell_type": "markdown",
      "metadata": {
        "id": "Eah3e3jksbPS",
        "colab_type": "text"
      },
      "source": [
        "### Compliling the ANN model\n",
        "\n",
        "here the output is binary hence we need to use losses as 'binary_crossentropy'"
      ]
    },
    {
      "cell_type": "code",
      "metadata": {
        "id": "rkzWLaXBsanj",
        "colab_type": "code",
        "colab": {}
      },
      "source": [
        "model.compile(optimizer = 'adam' , loss = 'binary_crossentropy' , metrics=['accuracy'])"
      ],
      "execution_count": 0,
      "outputs": []
    },
    {
      "cell_type": "markdown",
      "metadata": {
        "id": "RIxxINErs87c",
        "colab_type": "text"
      },
      "source": [
        "### Training the ANN model"
      ]
    },
    {
      "cell_type": "code",
      "metadata": {
        "id": "m1olXf7Ss7he",
        "colab_type": "code",
        "outputId": "7fb044eb-e043-4ffc-ad80-206555d7be73",
        "colab": {
          "base_uri": "https://localhost:8080/",
          "height": 1000
        }
      },
      "source": [
        "model.fit(X_train , y_train ,batch_size= 5 ,epochs= 100)"
      ],
      "execution_count": 12,
      "outputs": [
        {
          "output_type": "stream",
          "text": [
            "Epoch 1/100\n",
            "455/455 [==============================] - 0s 476us/step - loss: 9.8313 - accuracy: 0.0000e+00\n",
            "Epoch 2/100\n",
            "455/455 [==============================] - 0s 221us/step - loss: 9.8313 - accuracy: 0.0000e+00\n",
            "Epoch 3/100\n",
            "455/455 [==============================] - 0s 232us/step - loss: 9.8313 - accuracy: 0.0000e+00\n",
            "Epoch 4/100\n",
            "455/455 [==============================] - 0s 250us/step - loss: 9.8313 - accuracy: 0.0000e+00\n",
            "Epoch 5/100\n",
            "455/455 [==============================] - 0s 253us/step - loss: 9.8313 - accuracy: 0.0000e+00\n",
            "Epoch 6/100\n",
            "455/455 [==============================] - 0s 231us/step - loss: 9.8313 - accuracy: 0.0000e+00\n",
            "Epoch 7/100\n",
            "455/455 [==============================] - 0s 232us/step - loss: 9.8313 - accuracy: 0.0000e+00\n",
            "Epoch 8/100\n",
            "455/455 [==============================] - 0s 224us/step - loss: 9.8313 - accuracy: 0.0000e+00\n",
            "Epoch 9/100\n",
            "455/455 [==============================] - 0s 247us/step - loss: 9.8313 - accuracy: 0.0000e+00\n",
            "Epoch 10/100\n",
            "455/455 [==============================] - 0s 243us/step - loss: 9.8313 - accuracy: 0.0000e+00\n",
            "Epoch 11/100\n",
            "455/455 [==============================] - 0s 253us/step - loss: 9.8313 - accuracy: 0.0000e+00\n",
            "Epoch 12/100\n",
            "455/455 [==============================] - 0s 224us/step - loss: 9.8313 - accuracy: 0.0000e+00\n",
            "Epoch 13/100\n",
            "455/455 [==============================] - 0s 226us/step - loss: 9.8313 - accuracy: 0.0000e+00\n",
            "Epoch 14/100\n",
            "455/455 [==============================] - 0s 248us/step - loss: 9.8313 - accuracy: 0.0000e+00\n",
            "Epoch 15/100\n",
            "455/455 [==============================] - 0s 225us/step - loss: 9.8313 - accuracy: 0.0000e+00\n",
            "Epoch 16/100\n",
            "455/455 [==============================] - 0s 230us/step - loss: 9.8313 - accuracy: 0.0000e+00\n",
            "Epoch 17/100\n",
            "455/455 [==============================] - 0s 243us/step - loss: 9.8313 - accuracy: 0.0000e+00\n",
            "Epoch 18/100\n",
            "455/455 [==============================] - 0s 247us/step - loss: 9.8313 - accuracy: 0.0000e+00\n",
            "Epoch 19/100\n",
            "455/455 [==============================] - 0s 226us/step - loss: 9.8313 - accuracy: 0.0000e+00\n",
            "Epoch 20/100\n",
            "455/455 [==============================] - 0s 237us/step - loss: 9.8313 - accuracy: 0.0000e+00\n",
            "Epoch 21/100\n",
            "455/455 [==============================] - 0s 234us/step - loss: 9.8313 - accuracy: 0.0000e+00\n",
            "Epoch 22/100\n",
            "455/455 [==============================] - 0s 226us/step - loss: 9.8313 - accuracy: 0.0000e+00\n",
            "Epoch 23/100\n",
            "455/455 [==============================] - 0s 235us/step - loss: 9.8313 - accuracy: 0.0000e+00\n",
            "Epoch 24/100\n",
            "455/455 [==============================] - 0s 249us/step - loss: 9.8313 - accuracy: 0.0000e+00\n",
            "Epoch 25/100\n",
            "455/455 [==============================] - 0s 262us/step - loss: 9.8313 - accuracy: 0.0000e+00\n",
            "Epoch 26/100\n",
            "455/455 [==============================] - 0s 242us/step - loss: 9.8313 - accuracy: 0.0000e+00\n",
            "Epoch 27/100\n",
            "455/455 [==============================] - 0s 227us/step - loss: 9.8313 - accuracy: 0.0000e+00\n",
            "Epoch 28/100\n",
            "455/455 [==============================] - 0s 232us/step - loss: 9.8313 - accuracy: 0.0000e+00\n",
            "Epoch 29/100\n",
            "455/455 [==============================] - 0s 239us/step - loss: 9.8313 - accuracy: 0.0000e+00\n",
            "Epoch 30/100\n",
            "455/455 [==============================] - 0s 228us/step - loss: 9.8313 - accuracy: 0.0000e+00\n",
            "Epoch 31/100\n",
            "455/455 [==============================] - 0s 232us/step - loss: 9.8313 - accuracy: 0.0000e+00\n",
            "Epoch 32/100\n",
            "455/455 [==============================] - 0s 232us/step - loss: 9.8313 - accuracy: 0.0000e+00\n",
            "Epoch 33/100\n",
            "455/455 [==============================] - 0s 246us/step - loss: 9.8313 - accuracy: 0.0000e+00\n",
            "Epoch 34/100\n",
            "455/455 [==============================] - 0s 228us/step - loss: 9.8313 - accuracy: 0.0000e+00\n",
            "Epoch 35/100\n",
            "455/455 [==============================] - 0s 235us/step - loss: 9.8313 - accuracy: 0.0000e+00\n",
            "Epoch 36/100\n",
            "455/455 [==============================] - 0s 243us/step - loss: 9.8313 - accuracy: 0.0000e+00\n",
            "Epoch 37/100\n",
            "455/455 [==============================] - 0s 232us/step - loss: 9.8313 - accuracy: 0.0000e+00\n",
            "Epoch 38/100\n",
            "455/455 [==============================] - 0s 243us/step - loss: 9.8313 - accuracy: 0.0000e+00\n",
            "Epoch 39/100\n",
            "455/455 [==============================] - 0s 230us/step - loss: 9.8313 - accuracy: 0.0000e+00\n",
            "Epoch 40/100\n",
            "455/455 [==============================] - 0s 236us/step - loss: 9.8313 - accuracy: 0.0000e+00\n",
            "Epoch 41/100\n",
            "455/455 [==============================] - 0s 249us/step - loss: 9.8313 - accuracy: 0.0000e+00\n",
            "Epoch 42/100\n",
            "455/455 [==============================] - 0s 248us/step - loss: 9.8313 - accuracy: 0.0000e+00\n",
            "Epoch 43/100\n",
            "455/455 [==============================] - 0s 234us/step - loss: 9.8313 - accuracy: 0.0000e+00\n",
            "Epoch 44/100\n",
            "455/455 [==============================] - 0s 244us/step - loss: 9.8313 - accuracy: 0.0000e+00\n",
            "Epoch 45/100\n",
            "455/455 [==============================] - 0s 226us/step - loss: 9.8313 - accuracy: 0.0000e+00\n",
            "Epoch 46/100\n",
            "455/455 [==============================] - 0s 241us/step - loss: 9.8313 - accuracy: 0.0000e+00\n",
            "Epoch 47/100\n",
            "455/455 [==============================] - 0s 228us/step - loss: 9.8313 - accuracy: 0.0000e+00\n",
            "Epoch 48/100\n",
            "455/455 [==============================] - 0s 242us/step - loss: 9.8313 - accuracy: 0.0000e+00\n",
            "Epoch 49/100\n",
            "455/455 [==============================] - 0s 240us/step - loss: 9.8313 - accuracy: 0.0000e+00\n",
            "Epoch 50/100\n",
            "455/455 [==============================] - 0s 268us/step - loss: 9.8313 - accuracy: 0.0000e+00\n",
            "Epoch 51/100\n",
            "455/455 [==============================] - 0s 246us/step - loss: 9.8313 - accuracy: 0.0000e+00\n",
            "Epoch 52/100\n",
            "455/455 [==============================] - 0s 245us/step - loss: 9.8313 - accuracy: 0.0000e+00\n",
            "Epoch 53/100\n",
            "455/455 [==============================] - 0s 236us/step - loss: 9.8313 - accuracy: 0.0000e+00\n",
            "Epoch 54/100\n",
            "455/455 [==============================] - 0s 243us/step - loss: 9.8313 - accuracy: 0.0000e+00\n",
            "Epoch 55/100\n",
            "455/455 [==============================] - 0s 247us/step - loss: 9.8313 - accuracy: 0.0000e+00\n",
            "Epoch 56/100\n",
            "455/455 [==============================] - 0s 240us/step - loss: 9.8313 - accuracy: 0.0000e+00\n",
            "Epoch 57/100\n",
            "455/455 [==============================] - 0s 244us/step - loss: 9.8313 - accuracy: 0.0000e+00\n",
            "Epoch 58/100\n",
            "455/455 [==============================] - 0s 255us/step - loss: 9.8313 - accuracy: 0.0000e+00\n",
            "Epoch 59/100\n",
            "455/455 [==============================] - 0s 225us/step - loss: 9.8313 - accuracy: 0.0000e+00\n",
            "Epoch 60/100\n",
            "455/455 [==============================] - 0s 250us/step - loss: 9.8313 - accuracy: 0.0000e+00\n",
            "Epoch 61/100\n",
            "455/455 [==============================] - 0s 241us/step - loss: 9.8313 - accuracy: 0.0000e+00\n",
            "Epoch 62/100\n",
            "455/455 [==============================] - 0s 237us/step - loss: 9.8313 - accuracy: 0.0000e+00\n",
            "Epoch 63/100\n",
            "455/455 [==============================] - 0s 226us/step - loss: 9.8313 - accuracy: 0.0000e+00\n",
            "Epoch 64/100\n",
            "455/455 [==============================] - 0s 237us/step - loss: 9.8313 - accuracy: 0.0000e+00\n",
            "Epoch 65/100\n",
            "455/455 [==============================] - 0s 226us/step - loss: 9.8313 - accuracy: 0.0000e+00\n",
            "Epoch 66/100\n",
            "455/455 [==============================] - 0s 238us/step - loss: 9.8313 - accuracy: 0.0000e+00\n",
            "Epoch 67/100\n",
            "455/455 [==============================] - 0s 238us/step - loss: 9.8313 - accuracy: 0.0000e+00\n",
            "Epoch 68/100\n",
            "455/455 [==============================] - 0s 236us/step - loss: 9.8313 - accuracy: 0.0000e+00\n",
            "Epoch 69/100\n",
            "455/455 [==============================] - 0s 241us/step - loss: 9.8313 - accuracy: 0.0000e+00\n",
            "Epoch 70/100\n",
            "455/455 [==============================] - 0s 241us/step - loss: 9.8313 - accuracy: 0.0000e+00\n",
            "Epoch 71/100\n",
            "455/455 [==============================] - 0s 223us/step - loss: 9.8313 - accuracy: 0.0000e+00\n",
            "Epoch 72/100\n",
            "455/455 [==============================] - 0s 237us/step - loss: 9.8313 - accuracy: 0.0000e+00\n",
            "Epoch 73/100\n",
            "455/455 [==============================] - 0s 230us/step - loss: 9.8313 - accuracy: 0.0000e+00\n",
            "Epoch 74/100\n",
            "455/455 [==============================] - 0s 225us/step - loss: 9.8313 - accuracy: 0.0000e+00\n",
            "Epoch 75/100\n",
            "455/455 [==============================] - 0s 227us/step - loss: 9.8313 - accuracy: 0.0000e+00\n",
            "Epoch 76/100\n",
            "455/455 [==============================] - 0s 257us/step - loss: 9.8313 - accuracy: 0.0000e+00\n",
            "Epoch 77/100\n",
            "455/455 [==============================] - 0s 228us/step - loss: 9.8313 - accuracy: 0.0000e+00\n",
            "Epoch 78/100\n",
            "455/455 [==============================] - 0s 227us/step - loss: 9.8313 - accuracy: 0.0000e+00\n",
            "Epoch 79/100\n",
            "455/455 [==============================] - 0s 239us/step - loss: 9.8313 - accuracy: 0.0000e+00\n",
            "Epoch 80/100\n",
            "455/455 [==============================] - 0s 251us/step - loss: 9.8313 - accuracy: 0.0000e+00\n",
            "Epoch 81/100\n",
            "455/455 [==============================] - 0s 242us/step - loss: 9.8313 - accuracy: 0.0000e+00\n",
            "Epoch 82/100\n",
            "455/455 [==============================] - 0s 250us/step - loss: 9.8313 - accuracy: 0.0000e+00\n",
            "Epoch 83/100\n",
            "455/455 [==============================] - 0s 225us/step - loss: 9.8313 - accuracy: 0.0000e+00\n",
            "Epoch 84/100\n",
            "455/455 [==============================] - 0s 223us/step - loss: 9.8313 - accuracy: 0.0000e+00\n",
            "Epoch 85/100\n",
            "455/455 [==============================] - 0s 226us/step - loss: 9.8313 - accuracy: 0.0000e+00\n",
            "Epoch 86/100\n",
            "455/455 [==============================] - 0s 230us/step - loss: 9.8313 - accuracy: 0.0000e+00\n",
            "Epoch 87/100\n",
            "455/455 [==============================] - 0s 230us/step - loss: 9.8313 - accuracy: 0.0000e+00\n",
            "Epoch 88/100\n",
            "455/455 [==============================] - 0s 249us/step - loss: 9.8313 - accuracy: 0.0000e+00\n",
            "Epoch 89/100\n",
            "455/455 [==============================] - 0s 224us/step - loss: 9.8313 - accuracy: 0.0000e+00\n",
            "Epoch 90/100\n",
            "455/455 [==============================] - 0s 237us/step - loss: 9.8313 - accuracy: 0.0000e+00\n",
            "Epoch 91/100\n",
            "455/455 [==============================] - 0s 229us/step - loss: 9.8313 - accuracy: 0.0000e+00\n",
            "Epoch 92/100\n",
            "455/455 [==============================] - 0s 239us/step - loss: 9.8313 - accuracy: 0.0000e+00\n",
            "Epoch 93/100\n",
            "455/455 [==============================] - 0s 242us/step - loss: 9.8313 - accuracy: 0.0000e+00\n",
            "Epoch 94/100\n",
            "455/455 [==============================] - 0s 226us/step - loss: 9.8313 - accuracy: 0.0000e+00\n",
            "Epoch 95/100\n",
            "455/455 [==============================] - 0s 228us/step - loss: 9.8313 - accuracy: 0.0000e+00\n",
            "Epoch 96/100\n",
            "455/455 [==============================] - 0s 224us/step - loss: 9.8313 - accuracy: 0.0000e+00\n",
            "Epoch 97/100\n",
            "455/455 [==============================] - 0s 270us/step - loss: 9.8313 - accuracy: 0.0000e+00\n",
            "Epoch 98/100\n",
            "455/455 [==============================] - 0s 229us/step - loss: 9.8313 - accuracy: 0.0000e+00\n",
            "Epoch 99/100\n",
            "455/455 [==============================] - 0s 249us/step - loss: 9.8313 - accuracy: 0.0000e+00\n",
            "Epoch 100/100\n",
            "455/455 [==============================] - 0s 227us/step - loss: 9.8313 - accuracy: 0.0000e+00\n"
          ],
          "name": "stdout"
        },
        {
          "output_type": "execute_result",
          "data": {
            "text/plain": [
              "<keras.callbacks.callbacks.History at 0x7fec4cf3e400>"
            ]
          },
          "metadata": {
            "tags": []
          },
          "execution_count": 12
        }
      ]
    },
    {
      "cell_type": "markdown",
      "metadata": {
        "id": "rQdRLkSItXaS",
        "colab_type": "text"
      },
      "source": [
        "### Predicting the score"
      ]
    },
    {
      "cell_type": "code",
      "metadata": {
        "id": "NhMZWnAWtL-G",
        "colab_type": "code",
        "colab": {}
      },
      "source": [
        "y_pred = model.predict(X_test)\n",
        "np.printoptions(precision = 2)\n",
        "y_pred = y_pred > 150"
      ],
      "execution_count": 0,
      "outputs": []
    },
    {
      "cell_type": "code",
      "metadata": {
        "id": "zmejCwhuuCJZ",
        "colab_type": "code",
        "colab": {}
      },
      "source": [
        "from sklearn.metrics import confusion_matrix\n",
        "cm = confusion_matrix(y_test , y_pred)"
      ],
      "execution_count": 0,
      "outputs": []
    },
    {
      "cell_type": "code",
      "metadata": {
        "id": "5nq7jg9buWHT",
        "colab_type": "code",
        "outputId": "7fddc7aa-1e88-4d46-857b-2f5eb1a5b969",
        "colab": {
          "base_uri": "https://localhost:8080/",
          "height": 50
        }
      },
      "source": [
        "cm"
      ],
      "execution_count": 15,
      "outputs": [
        {
          "output_type": "execute_result",
          "data": {
            "text/plain": [
              "array([[47,  0],\n",
              "       [67,  0]])"
            ]
          },
          "metadata": {
            "tags": []
          },
          "execution_count": 15
        }
      ]
    },
    {
      "cell_type": "code",
      "metadata": {
        "id": "0UubFo4ouefG",
        "colab_type": "code",
        "colab": {
          "base_uri": "https://localhost:8080/",
          "height": 252
        },
        "outputId": "0d80eebf-aa2f-461f-eb2c-4b5859b1b73f"
      },
      "source": [
        "model.summary()"
      ],
      "execution_count": 16,
      "outputs": [
        {
          "output_type": "stream",
          "text": [
            "Model: \"sequential_1\"\n",
            "_________________________________________________________________\n",
            "Layer (type)                 Output Shape              Param #   \n",
            "=================================================================\n",
            "dense_1 (Dense)              (None, 15)                465       \n",
            "_________________________________________________________________\n",
            "dense_2 (Dense)              (None, 15)                240       \n",
            "_________________________________________________________________\n",
            "dense_3 (Dense)              (None, 1)                 16        \n",
            "=================================================================\n",
            "Total params: 721\n",
            "Trainable params: 721\n",
            "Non-trainable params: 0\n",
            "_________________________________________________________________\n"
          ],
          "name": "stdout"
        }
      ]
    },
    {
      "cell_type": "code",
      "metadata": {
        "id": "-s3LJ_XY2MrC",
        "colab_type": "code",
        "colab": {}
      },
      "source": [
        ""
      ],
      "execution_count": 0,
      "outputs": []
    }
  ]
}