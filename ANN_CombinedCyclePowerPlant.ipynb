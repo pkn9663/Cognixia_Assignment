{
  "nbformat": 4,
  "nbformat_minor": 0,
  "metadata": {
    "colab": {
      "name": "Electric_Data.ipynb",
      "provenance": [],
      "collapsed_sections": [],
      "mount_file_id": "16cFuOPlrI6v5e6zXvVVM6RenHvOHlx_r",
      "authorship_tag": "ABX9TyOoxq4OfohxvcOW8aV5N3mt",
      "include_colab_link": true
    },
    "kernelspec": {
      "name": "python3",
      "display_name": "Python 3"
    }
  },
  "cells": [
    {
      "cell_type": "markdown",
      "metadata": {
        "id": "view-in-github",
        "colab_type": "text"
      },
      "source": [
        "<a href=\"https://colab.research.google.com/github/pkn9663/Cognixia_Assignment/blob/master/ANN_CombinedCyclePowerPlant.ipynb\" target=\"_parent\"><img src=\"https://colab.research.google.com/assets/colab-badge.svg\" alt=\"Open In Colab\"/></a>"
      ]
    },
    {
      "cell_type": "markdown",
      "metadata": {
        "id": "yJT_6JGhThPJ",
        "colab_type": "text"
      },
      "source": [
        "# Combined Cycle PowerPlant : click on the image to explore the dataset\n",
        "[![alt text](https://archive.ics.uci.edu/ml/assets/logo.gif)](https://archive.ics.uci.edu/ml/datasets/Combined+Cycle+Power+Plant)"
      ]
    },
    {
      "cell_type": "markdown",
      "metadata": {
        "id": "PoZFsZZiUNnn",
        "colab_type": "text"
      },
      "source": [
        "## Importing Libraries"
      ]
    },
    {
      "cell_type": "code",
      "metadata": {
        "id": "b6gB_2xUULnI",
        "colab_type": "code",
        "colab": {}
      },
      "source": [
        "import pandas as pd\n",
        "import numpy as np\n",
        "import warnings;warnings.filterwarnings('ignore')\n",
        "import matplotlib.pyplot as plt"
      ],
      "execution_count": 0,
      "outputs": []
    },
    {
      "cell_type": "markdown",
      "metadata": {
        "id": "b1bCve4_WW0T",
        "colab_type": "text"
      },
      "source": [
        "# --------------------------Part-1 DataProcessing------------------------------"
      ]
    },
    {
      "cell_type": "markdown",
      "metadata": {
        "id": "FG9LYIq6Uhnl",
        "colab_type": "text"
      },
      "source": [
        "Loading the dataset"
      ]
    },
    {
      "cell_type": "code",
      "metadata": {
        "id": "Sxoyt1h0UgF4",
        "colab_type": "code",
        "colab": {
          "base_uri": "https://localhost:8080/",
          "height": 118
        },
        "outputId": "db32db3a-071d-4275-b379-bf6a7485fb60"
      },
      "source": [
        "dataset = pd.read_excel('/content/drive/My Drive/Colab Notebooks/Deep Learning/Electrical_Data.xlsx')\n",
        "dataset.count()"
      ],
      "execution_count": 3,
      "outputs": [
        {
          "output_type": "execute_result",
          "data": {
            "text/plain": [
              "AT    9568\n",
              "V     9568\n",
              "AP    9568\n",
              "RH    9568\n",
              "PE    9568\n",
              "dtype: int64"
            ]
          },
          "metadata": {
            "tags": []
          },
          "execution_count": 3
        }
      ]
    },
    {
      "cell_type": "code",
      "metadata": {
        "id": "pTQanqBeVEAr",
        "colab_type": "code",
        "colab": {
          "base_uri": "https://localhost:8080/",
          "height": 34
        },
        "outputId": "c8f6ce6e-5a19-4970-df8c-bd6f77b86a2b"
      },
      "source": [
        "print(X.shape , y.shape)"
      ],
      "execution_count": 7,
      "outputs": [
        {
          "output_type": "stream",
          "text": [
            "(9568, 4) (9568, 1)\n"
          ],
          "name": "stdout"
        }
      ]
    },
    {
      "cell_type": "code",
      "metadata": {
        "id": "nGBL0LKCVbfj",
        "colab_type": "code",
        "colab": {}
      },
      "source": [
        "X = dataset.iloc[: , 0:4].values\n",
        "y = dataset.iloc[: , 4:].values"
      ],
      "execution_count": 0,
      "outputs": []
    },
    {
      "cell_type": "markdown",
      "metadata": {
        "id": "yIi3LCM4VxyZ",
        "colab_type": "text"
      },
      "source": [
        "## Splitting the dataset into Taining/Testing datset"
      ]
    },
    {
      "cell_type": "code",
      "metadata": {
        "id": "OVxncZpyVlTf",
        "colab_type": "code",
        "colab": {
          "base_uri": "https://localhost:8080/",
          "height": 34
        },
        "outputId": "449ee15e-ff73-41c7-bc1c-93088f10c31d"
      },
      "source": [
        "from sklearn.model_selection import train_test_split\n",
        "X_train , X_test , y_train , y_test = train_test_split(X , y ,test_size = 0.25 , random_state = 0)\n",
        "print(len(X_train) , len(X_test))"
      ],
      "execution_count": 8,
      "outputs": [
        {
          "output_type": "stream",
          "text": [
            "7176 2392\n"
          ],
          "name": "stdout"
        }
      ]
    },
    {
      "cell_type": "markdown",
      "metadata": {
        "id": "L0QNEZbBWlMN",
        "colab_type": "text"
      },
      "source": [
        "### feature scaling the dataset for computation"
      ]
    },
    {
      "cell_type": "markdown",
      "metadata": {
        "id": "mGKpzKYuh6BK",
        "colab_type": "text"
      },
      "source": [
        ""
      ]
    },
    {
      "cell_type": "code",
      "metadata": {
        "id": "t9AAep9gVt1d",
        "colab_type": "code",
        "colab": {}
      },
      "source": [
        "\"\"\"from sklearn.preprocessing import StandardScaler\n",
        "scalar = StandardScaler()\n",
        "\n",
        "X_train = scalar.fit_transform(X_train)\n",
        "X_test = scalar.transform(X_test)\n",
        "y_train = scalar.fit_transform(y_train)\n",
        "y_test = scalar.transform(y_test)\"\"\""
      ],
      "execution_count": 0,
      "outputs": []
    },
    {
      "cell_type": "code",
      "metadata": {
        "id": "3gJ8JoRDW4LE",
        "colab_type": "code",
        "colab": {}
      },
      "source": [
        "y_test"
      ],
      "execution_count": 0,
      "outputs": []
    },
    {
      "cell_type": "code",
      "metadata": {
        "id": "llEN7nMSW6Tp",
        "colab_type": "code",
        "colab": {}
      },
      "source": [
        "training_set = pd.DataFrame([X_train , y_train])\n",
        "testing_set = pd.DataFrame([X_test , y_test])"
      ],
      "execution_count": 0,
      "outputs": []
    },
    {
      "cell_type": "markdown",
      "metadata": {
        "id": "TsMLZRrrYPtN",
        "colab_type": "text"
      },
      "source": [
        "# ----------- Part 2 - Building ANN model -----------"
      ]
    },
    {
      "cell_type": "markdown",
      "metadata": {
        "id": "ornikZE6YZbl",
        "colab_type": "text"
      },
      "source": [
        "### initialing ANN"
      ]
    },
    {
      "cell_type": "code",
      "metadata": {
        "id": "EJW-A2cXXhs7",
        "colab_type": "code",
        "colab": {
          "base_uri": "https://localhost:8080/",
          "height": 34
        },
        "outputId": "96b0ff6b-8d3c-4082-c0d5-62834c007576"
      },
      "source": [
        "import keras\n",
        "from keras.models import Sequential\n",
        "from keras.layers import Dense"
      ],
      "execution_count": 9,
      "outputs": [
        {
          "output_type": "stream",
          "text": [
            "Using TensorFlow backend.\n"
          ],
          "name": "stderr"
        }
      ]
    },
    {
      "cell_type": "markdown",
      "metadata": {
        "id": "Jnm2Rb_PZKLT",
        "colab_type": "text"
      },
      "source": [
        "### Creating model"
      ]
    },
    {
      "cell_type": "code",
      "metadata": {
        "id": "GVGXNR4TZJbI",
        "colab_type": "code",
        "colab": {}
      },
      "source": [
        "model = Sequential()"
      ],
      "execution_count": 0,
      "outputs": []
    },
    {
      "cell_type": "markdown",
      "metadata": {
        "id": "pvBUW69iYrot",
        "colab_type": "text"
      },
      "source": [
        "### Adding input Layor & 1st hidden layor"
      ]
    },
    {
      "cell_type": "code",
      "metadata": {
        "id": "OOj1Q6Z1XjV1",
        "colab_type": "code",
        "colab": {}
      },
      "source": [
        "model.add(Dense(units=6, activation= 'relu'))"
      ],
      "execution_count": 0,
      "outputs": []
    },
    {
      "cell_type": "markdown",
      "metadata": {
        "id": "Ckf5dItSel2I",
        "colab_type": "text"
      },
      "source": [
        "NOTE : The model is so briliant that it will detect the size of the Input automatically"
      ]
    },
    {
      "cell_type": "markdown",
      "metadata": {
        "id": "MFWmh5LJdyRl",
        "colab_type": "text"
      },
      "source": [
        "### Adding 2nd hidden layor"
      ]
    },
    {
      "cell_type": "code",
      "metadata": {
        "id": "rMyOFmWIdpPC",
        "colab_type": "code",
        "colab": {}
      },
      "source": [
        "model.add(Dense(units = 6 , activation= 'relu'))"
      ],
      "execution_count": 0,
      "outputs": []
    },
    {
      "cell_type": "markdown",
      "metadata": {
        "id": "-cCu6CVQd3rC",
        "colab_type": "text"
      },
      "source": [
        "### Adding Output layor"
      ]
    },
    {
      "cell_type": "code",
      "metadata": {
        "id": "0zdtGkrid2xv",
        "colab_type": "code",
        "colab": {}
      },
      "source": [
        "model.add(Dense(units = 1 , activation= None))"
      ],
      "execution_count": 0,
      "outputs": []
    },
    {
      "cell_type": "markdown",
      "metadata": {
        "id": "yXWP62rkftDe",
        "colab_type": "text"
      },
      "source": [
        "# -------- Part 3 - Training ANN model ----------"
      ]
    },
    {
      "cell_type": "markdown",
      "metadata": {
        "id": "Xd9cLz4Ue03j",
        "colab_type": "text"
      },
      "source": [
        "### Compiling the Keras model"
      ]
    },
    {
      "cell_type": "code",
      "metadata": {
        "id": "zMa1aOkGeb_q",
        "colab_type": "code",
        "colab": {}
      },
      "source": [
        "model.compile(optimizer= 'adam' , loss = \"mean_squared_error\" , metrics = ['accuracy'])"
      ],
      "execution_count": 0,
      "outputs": []
    },
    {
      "cell_type": "markdown",
      "metadata": {
        "id": "zEs4r_Wcgf_X",
        "colab_type": "text"
      },
      "source": [
        "### Training the ANN model"
      ]
    },
    {
      "cell_type": "code",
      "metadata": {
        "id": "RGrxuoO2fTuZ",
        "colab_type": "code",
        "colab": {
          "base_uri": "https://localhost:8080/",
          "height": 1000
        },
        "outputId": "7f218801-7adc-4123-f77d-740363181483"
      },
      "source": [
        "model.fit(X_train , y_train , batch_size= 10 , epochs= 100)"
      ],
      "execution_count": 15,
      "outputs": [
        {
          "output_type": "stream",
          "text": [
            "Epoch 1/100\n",
            "7176/7176 [==============================] - 1s 113us/step - loss: 1404.6955 - accuracy: 0.0000e+00\n",
            "Epoch 2/100\n",
            "7176/7176 [==============================] - 1s 95us/step - loss: 325.7153 - accuracy: 0.0000e+00\n",
            "Epoch 3/100\n",
            "7176/7176 [==============================] - 1s 98us/step - loss: 82.8520 - accuracy: 2.7871e-04\n",
            "Epoch 4/100\n",
            "7176/7176 [==============================] - 1s 95us/step - loss: 36.0430 - accuracy: 8.3612e-04\n",
            "Epoch 5/100\n",
            "7176/7176 [==============================] - 1s 94us/step - loss: 32.1426 - accuracy: 5.5741e-04\n",
            "Epoch 6/100\n",
            "7176/7176 [==============================] - 1s 103us/step - loss: 31.2630 - accuracy: 2.7871e-04\n",
            "Epoch 7/100\n",
            "7176/7176 [==============================] - 1s 104us/step - loss: 30.1950 - accuracy: 8.3612e-04\n",
            "Epoch 8/100\n",
            "7176/7176 [==============================] - 1s 99us/step - loss: 30.5784 - accuracy: 8.3612e-04\n",
            "Epoch 9/100\n",
            "7176/7176 [==============================] - 1s 95us/step - loss: 29.6933 - accuracy: 6.9677e-04\n",
            "Epoch 10/100\n",
            "7176/7176 [==============================] - 1s 109us/step - loss: 29.7830 - accuracy: 0.0014\n",
            "Epoch 11/100\n",
            "7176/7176 [==============================] - 1s 103us/step - loss: 29.5050 - accuracy: 6.9677e-04\n",
            "Epoch 12/100\n",
            "7176/7176 [==============================] - 1s 98us/step - loss: 28.9250 - accuracy: 5.5741e-04\n",
            "Epoch 13/100\n",
            "7176/7176 [==============================] - 1s 105us/step - loss: 29.2105 - accuracy: 6.9677e-04\n",
            "Epoch 14/100\n",
            "7176/7176 [==============================] - 1s 103us/step - loss: 30.2571 - accuracy: 5.5741e-04\n",
            "Epoch 15/100\n",
            "7176/7176 [==============================] - 1s 102us/step - loss: 28.9089 - accuracy: 6.9677e-04\n",
            "Epoch 16/100\n",
            "7176/7176 [==============================] - 1s 104us/step - loss: 29.0015 - accuracy: 9.7547e-04\n",
            "Epoch 17/100\n",
            "7176/7176 [==============================] - 1s 103us/step - loss: 29.1968 - accuracy: 0.0013\n",
            "Epoch 18/100\n",
            "7176/7176 [==============================] - 1s 105us/step - loss: 28.5983 - accuracy: 1.3935e-04\n",
            "Epoch 19/100\n",
            "7176/7176 [==============================] - 1s 100us/step - loss: 29.1071 - accuracy: 0.0013\n",
            "Epoch 20/100\n",
            "7176/7176 [==============================] - 1s 98us/step - loss: 29.0393 - accuracy: 4.1806e-04\n",
            "Epoch 21/100\n",
            "7176/7176 [==============================] - 1s 107us/step - loss: 30.3741 - accuracy: 9.7547e-04\n",
            "Epoch 22/100\n",
            "7176/7176 [==============================] - 1s 103us/step - loss: 29.0760 - accuracy: 6.9677e-04\n",
            "Epoch 23/100\n",
            "7176/7176 [==============================] - 1s 104us/step - loss: 30.5564 - accuracy: 8.3612e-04\n",
            "Epoch 24/100\n",
            "7176/7176 [==============================] - 1s 98us/step - loss: 29.5696 - accuracy: 6.9677e-04\n",
            "Epoch 25/100\n",
            "7176/7176 [==============================] - 1s 108us/step - loss: 28.9516 - accuracy: 0.0013\n",
            "Epoch 26/100\n",
            "7176/7176 [==============================] - 1s 109us/step - loss: 29.7185 - accuracy: 0.0013\n",
            "Epoch 27/100\n",
            "7176/7176 [==============================] - 1s 97us/step - loss: 28.4755 - accuracy: 5.5741e-04\n",
            "Epoch 28/100\n",
            "7176/7176 [==============================] - 1s 96us/step - loss: 30.2903 - accuracy: 6.9677e-04\n",
            "Epoch 29/100\n",
            "7176/7176 [==============================] - 1s 101us/step - loss: 28.8295 - accuracy: 0.0011\n",
            "Epoch 30/100\n",
            "7176/7176 [==============================] - 1s 106us/step - loss: 29.2150 - accuracy: 5.5741e-04\n",
            "Epoch 31/100\n",
            "7176/7176 [==============================] - 1s 96us/step - loss: 30.4100 - accuracy: 4.1806e-04\n",
            "Epoch 32/100\n",
            "7176/7176 [==============================] - 1s 97us/step - loss: 30.0351 - accuracy: 2.7871e-04\n",
            "Epoch 33/100\n",
            "7176/7176 [==============================] - 1s 100us/step - loss: 29.8454 - accuracy: 6.9677e-04\n",
            "Epoch 34/100\n",
            "7176/7176 [==============================] - 1s 105us/step - loss: 29.1720 - accuracy: 5.5741e-04\n",
            "Epoch 35/100\n",
            "7176/7176 [==============================] - 1s 99us/step - loss: 28.9908 - accuracy: 6.9677e-04\n",
            "Epoch 36/100\n",
            "7176/7176 [==============================] - 1s 100us/step - loss: 29.2813 - accuracy: 4.1806e-04\n",
            "Epoch 37/100\n",
            "7176/7176 [==============================] - 1s 97us/step - loss: 29.3147 - accuracy: 6.9677e-04\n",
            "Epoch 38/100\n",
            "7176/7176 [==============================] - 1s 98us/step - loss: 28.4720 - accuracy: 9.7547e-04\n",
            "Epoch 39/100\n",
            "7176/7176 [==============================] - 1s 98us/step - loss: 28.3764 - accuracy: 8.3612e-04\n",
            "Epoch 40/100\n",
            "7176/7176 [==============================] - 1s 103us/step - loss: 29.9657 - accuracy: 4.1806e-04\n",
            "Epoch 41/100\n",
            "7176/7176 [==============================] - 1s 105us/step - loss: 29.1229 - accuracy: 8.3612e-04\n",
            "Epoch 42/100\n",
            "7176/7176 [==============================] - 1s 99us/step - loss: 29.5272 - accuracy: 4.1806e-04\n",
            "Epoch 43/100\n",
            "7176/7176 [==============================] - 1s 100us/step - loss: 28.3950 - accuracy: 2.7871e-04\n",
            "Epoch 44/100\n",
            "7176/7176 [==============================] - 1s 106us/step - loss: 28.4250 - accuracy: 4.1806e-04\n",
            "Epoch 45/100\n",
            "7176/7176 [==============================] - 1s 105us/step - loss: 29.1999 - accuracy: 0.0011\n",
            "Epoch 46/100\n",
            "7176/7176 [==============================] - 1s 99us/step - loss: 29.0269 - accuracy: 5.5741e-04\n",
            "Epoch 47/100\n",
            "7176/7176 [==============================] - 1s 97us/step - loss: 29.2617 - accuracy: 8.3612e-04\n",
            "Epoch 48/100\n",
            "7176/7176 [==============================] - 1s 100us/step - loss: 28.4553 - accuracy: 5.5741e-04\n",
            "Epoch 49/100\n",
            "7176/7176 [==============================] - 1s 98us/step - loss: 28.7361 - accuracy: 9.7547e-04\n",
            "Epoch 50/100\n",
            "7176/7176 [==============================] - 1s 101us/step - loss: 29.0788 - accuracy: 4.1806e-04\n",
            "Epoch 51/100\n",
            "7176/7176 [==============================] - 1s 98us/step - loss: 28.2303 - accuracy: 0.0011\n",
            "Epoch 52/100\n",
            "7176/7176 [==============================] - 1s 100us/step - loss: 29.1676 - accuracy: 6.9677e-04\n",
            "Epoch 53/100\n",
            "7176/7176 [==============================] - 1s 97us/step - loss: 29.3691 - accuracy: 8.3612e-04\n",
            "Epoch 54/100\n",
            "7176/7176 [==============================] - 1s 98us/step - loss: 30.0323 - accuracy: 0.0011\n",
            "Epoch 55/100\n",
            "7176/7176 [==============================] - 1s 97us/step - loss: 28.4344 - accuracy: 0.0015\n",
            "Epoch 56/100\n",
            "7176/7176 [==============================] - 1s 98us/step - loss: 28.5895 - accuracy: 9.7547e-04\n",
            "Epoch 57/100\n",
            "7176/7176 [==============================] - 1s 98us/step - loss: 29.4241 - accuracy: 6.9677e-04\n",
            "Epoch 58/100\n",
            "7176/7176 [==============================] - 1s 96us/step - loss: 29.3236 - accuracy: 5.5741e-04\n",
            "Epoch 59/100\n",
            "7176/7176 [==============================] - 1s 113us/step - loss: 29.6165 - accuracy: 2.7871e-04\n",
            "Epoch 60/100\n",
            "7176/7176 [==============================] - 1s 103us/step - loss: 29.4438 - accuracy: 0.0013\n",
            "Epoch 61/100\n",
            "7176/7176 [==============================] - 1s 97us/step - loss: 28.3708 - accuracy: 5.5741e-04\n",
            "Epoch 62/100\n",
            "7176/7176 [==============================] - 1s 98us/step - loss: 29.1074 - accuracy: 8.3612e-04\n",
            "Epoch 63/100\n",
            "7176/7176 [==============================] - 1s 99us/step - loss: 30.0588 - accuracy: 5.5741e-04\n",
            "Epoch 64/100\n",
            "7176/7176 [==============================] - 1s 102us/step - loss: 28.6398 - accuracy: 2.7871e-04\n",
            "Epoch 65/100\n",
            "7176/7176 [==============================] - 1s 101us/step - loss: 28.2271 - accuracy: 6.9677e-04\n",
            "Epoch 66/100\n",
            "7176/7176 [==============================] - 1s 99us/step - loss: 28.2694 - accuracy: 8.3612e-04\n",
            "Epoch 67/100\n",
            "7176/7176 [==============================] - 1s 102us/step - loss: 29.1872 - accuracy: 6.9677e-04\n",
            "Epoch 68/100\n",
            "7176/7176 [==============================] - 1s 97us/step - loss: 28.8676 - accuracy: 9.7547e-04\n",
            "Epoch 69/100\n",
            "7176/7176 [==============================] - 1s 98us/step - loss: 29.4524 - accuracy: 5.5741e-04\n",
            "Epoch 70/100\n",
            "7176/7176 [==============================] - 1s 97us/step - loss: 28.5418 - accuracy: 8.3612e-04\n",
            "Epoch 71/100\n",
            "7176/7176 [==============================] - 1s 97us/step - loss: 28.0727 - accuracy: 8.3612e-04\n",
            "Epoch 72/100\n",
            "7176/7176 [==============================] - 1s 98us/step - loss: 28.8355 - accuracy: 5.5741e-04\n",
            "Epoch 73/100\n",
            "7176/7176 [==============================] - 1s 98us/step - loss: 29.6066 - accuracy: 4.1806e-04\n",
            "Epoch 74/100\n",
            "7176/7176 [==============================] - 1s 109us/step - loss: 29.5933 - accuracy: 0.0011\n",
            "Epoch 75/100\n",
            "7176/7176 [==============================] - 1s 104us/step - loss: 28.8115 - accuracy: 8.3612e-04\n",
            "Epoch 76/100\n",
            "7176/7176 [==============================] - 1s 110us/step - loss: 28.9987 - accuracy: 8.3612e-04\n",
            "Epoch 77/100\n",
            "7176/7176 [==============================] - 1s 97us/step - loss: 29.0150 - accuracy: 4.1806e-04\n",
            "Epoch 78/100\n",
            "7176/7176 [==============================] - 1s 97us/step - loss: 29.8229 - accuracy: 9.7547e-04\n",
            "Epoch 79/100\n",
            "7176/7176 [==============================] - 1s 101us/step - loss: 28.5071 - accuracy: 8.3612e-04\n",
            "Epoch 80/100\n",
            "7176/7176 [==============================] - 1s 97us/step - loss: 28.6806 - accuracy: 6.9677e-04\n",
            "Epoch 81/100\n",
            "7176/7176 [==============================] - 1s 96us/step - loss: 29.7107 - accuracy: 8.3612e-04\n",
            "Epoch 82/100\n",
            "7176/7176 [==============================] - 1s 101us/step - loss: 28.2468 - accuracy: 9.7547e-04\n",
            "Epoch 83/100\n",
            "7176/7176 [==============================] - 1s 100us/step - loss: 27.8680 - accuracy: 4.1806e-04\n",
            "Epoch 84/100\n",
            "7176/7176 [==============================] - 1s 103us/step - loss: 28.5974 - accuracy: 5.5741e-04\n",
            "Epoch 85/100\n",
            "7176/7176 [==============================] - 1s 101us/step - loss: 28.4417 - accuracy: 6.9677e-04\n",
            "Epoch 86/100\n",
            "7176/7176 [==============================] - 1s 100us/step - loss: 29.3227 - accuracy: 9.7547e-04\n",
            "Epoch 87/100\n",
            "7176/7176 [==============================] - 1s 100us/step - loss: 28.5556 - accuracy: 8.3612e-04\n",
            "Epoch 88/100\n",
            "7176/7176 [==============================] - 1s 97us/step - loss: 28.3117 - accuracy: 5.5741e-04\n",
            "Epoch 89/100\n",
            "7176/7176 [==============================] - 1s 96us/step - loss: 28.3294 - accuracy: 5.5741e-04\n",
            "Epoch 90/100\n",
            "7176/7176 [==============================] - 1s 100us/step - loss: 28.6873 - accuracy: 8.3612e-04\n",
            "Epoch 91/100\n",
            "7176/7176 [==============================] - 1s 103us/step - loss: 28.7586 - accuracy: 6.9677e-04\n",
            "Epoch 92/100\n",
            "7176/7176 [==============================] - 1s 107us/step - loss: 28.7856 - accuracy: 5.5741e-04\n",
            "Epoch 93/100\n",
            "7176/7176 [==============================] - 1s 108us/step - loss: 27.9782 - accuracy: 6.9677e-04\n",
            "Epoch 94/100\n",
            "7176/7176 [==============================] - 1s 105us/step - loss: 29.1640 - accuracy: 4.1806e-04\n",
            "Epoch 95/100\n",
            "7176/7176 [==============================] - 1s 102us/step - loss: 28.0050 - accuracy: 9.7547e-04\n",
            "Epoch 96/100\n",
            "7176/7176 [==============================] - 1s 97us/step - loss: 28.5363 - accuracy: 5.5741e-04\n",
            "Epoch 97/100\n",
            "7176/7176 [==============================] - 1s 98us/step - loss: 28.7032 - accuracy: 8.3612e-04\n",
            "Epoch 98/100\n",
            "7176/7176 [==============================] - 1s 102us/step - loss: 28.8338 - accuracy: 2.7871e-04\n",
            "Epoch 99/100\n",
            "7176/7176 [==============================] - 1s 100us/step - loss: 28.6592 - accuracy: 9.7547e-04\n",
            "Epoch 100/100\n",
            "7176/7176 [==============================] - 1s 99us/step - loss: 28.0959 - accuracy: 8.3612e-04\n"
          ],
          "name": "stdout"
        },
        {
          "output_type": "execute_result",
          "data": {
            "text/plain": [
              "<keras.callbacks.callbacks.History at 0x7f7f0efb8278>"
            ]
          },
          "metadata": {
            "tags": []
          },
          "execution_count": 15
        }
      ]
    },
    {
      "cell_type": "markdown",
      "metadata": {
        "id": "rJKROvCujgS1",
        "colab_type": "text"
      },
      "source": [
        "### Predicting the value"
      ]
    },
    {
      "cell_type": "code",
      "metadata": {
        "id": "8QT0WzHKlxNW",
        "colab_type": "code",
        "colab": {
          "base_uri": "https://localhost:8080/",
          "height": 134
        },
        "outputId": "d7b8f667-522e-44d8-d323-bc6b4a46a56b"
      },
      "source": [
        "np.concatenate((y_pred , y_test) , 1)"
      ],
      "execution_count": 38,
      "outputs": [
        {
          "output_type": "execute_result",
          "data": {
            "text/plain": [
              "array([[428.71, 431.23],\n",
              "       [460.04, 460.01],\n",
              "       [463.69, 461.14],\n",
              "       ...,\n",
              "       [469.9 , 468.9 ],\n",
              "       [474.21, 473.9 ],\n",
              "       [438.35, 437.07]])"
            ]
          },
          "metadata": {
            "tags": []
          },
          "execution_count": 38
        }
      ]
    },
    {
      "cell_type": "code",
      "metadata": {
        "id": "5dVaXxozgsk5",
        "colab_type": "code",
        "colab": {
          "base_uri": "https://localhost:8080/",
          "height": 134
        },
        "outputId": "503a3f07-65e4-4b99-9dfc-cec63d667cfc"
      },
      "source": [
        "y_pred = model.predict(X_test)\n",
        "np.set_printoptions(precision=2)\n",
        "print(np.concatenate((y_pred , y_test) , 1))"
      ],
      "execution_count": 39,
      "outputs": [
        {
          "output_type": "stream",
          "text": [
            "[[428.71 431.23]\n",
            " [460.04 460.01]\n",
            " [463.69 461.14]\n",
            " ...\n",
            " [469.9  468.9 ]\n",
            " [474.21 473.9 ]\n",
            " [438.35 437.07]]\n"
          ],
          "name": "stdout"
        }
      ]
    },
    {
      "cell_type": "markdown",
      "metadata": {
        "id": "1OUZLCQAkATq",
        "colab_type": "text"
      },
      "source": [
        "### Visualise using Confusion matrix"
      ]
    },
    {
      "cell_type": "code",
      "metadata": {
        "id": "5hIBTEagjyHV",
        "colab_type": "code",
        "colab": {
          "base_uri": "https://localhost:8080/",
          "height": 320
        },
        "outputId": "d7d39b84-c699-4e6e-9a9f-55362f2e140b"
      },
      "source": [
        "from sklearn.metrics import confusion_matrix\n",
        "cm = confusion_matrix(y_test , y_pred)"
      ],
      "execution_count": 28,
      "outputs": [
        {
          "output_type": "error",
          "ename": "ValueError",
          "evalue": "ignored",
          "traceback": [
            "\u001b[0;31m---------------------------------------------------------------------------\u001b[0m",
            "\u001b[0;31mValueError\u001b[0m                                Traceback (most recent call last)",
            "\u001b[0;32m<ipython-input-28-5f8875088902>\u001b[0m in \u001b[0;36m<module>\u001b[0;34m()\u001b[0m\n\u001b[1;32m      1\u001b[0m \u001b[0;32mfrom\u001b[0m \u001b[0msklearn\u001b[0m\u001b[0;34m.\u001b[0m\u001b[0mmetrics\u001b[0m \u001b[0;32mimport\u001b[0m \u001b[0mconfusion_matrix\u001b[0m\u001b[0;34m\u001b[0m\u001b[0;34m\u001b[0m\u001b[0m\n\u001b[0;32m----> 2\u001b[0;31m \u001b[0mcm\u001b[0m \u001b[0;34m=\u001b[0m \u001b[0mconfusion_matrix\u001b[0m\u001b[0;34m(\u001b[0m\u001b[0my_test\u001b[0m \u001b[0;34m,\u001b[0m \u001b[0my_pred\u001b[0m\u001b[0;34m)\u001b[0m\u001b[0;34m\u001b[0m\u001b[0;34m\u001b[0m\u001b[0m\n\u001b[0m",
            "\u001b[0;32m/usr/local/lib/python3.6/dist-packages/sklearn/metrics/_classification.py\u001b[0m in \u001b[0;36mconfusion_matrix\u001b[0;34m(y_true, y_pred, labels, sample_weight, normalize)\u001b[0m\n\u001b[1;32m    266\u001b[0m \u001b[0;34m\u001b[0m\u001b[0m\n\u001b[1;32m    267\u001b[0m     \"\"\"\n\u001b[0;32m--> 268\u001b[0;31m     \u001b[0my_type\u001b[0m\u001b[0;34m,\u001b[0m \u001b[0my_true\u001b[0m\u001b[0;34m,\u001b[0m \u001b[0my_pred\u001b[0m \u001b[0;34m=\u001b[0m \u001b[0m_check_targets\u001b[0m\u001b[0;34m(\u001b[0m\u001b[0my_true\u001b[0m\u001b[0;34m,\u001b[0m \u001b[0my_pred\u001b[0m\u001b[0;34m)\u001b[0m\u001b[0;34m\u001b[0m\u001b[0;34m\u001b[0m\u001b[0m\n\u001b[0m\u001b[1;32m    269\u001b[0m     \u001b[0;32mif\u001b[0m \u001b[0my_type\u001b[0m \u001b[0;32mnot\u001b[0m \u001b[0;32min\u001b[0m \u001b[0;34m(\u001b[0m\u001b[0;34m\"binary\"\u001b[0m\u001b[0;34m,\u001b[0m \u001b[0;34m\"multiclass\"\u001b[0m\u001b[0;34m)\u001b[0m\u001b[0;34m:\u001b[0m\u001b[0;34m\u001b[0m\u001b[0;34m\u001b[0m\u001b[0m\n\u001b[1;32m    270\u001b[0m         \u001b[0;32mraise\u001b[0m \u001b[0mValueError\u001b[0m\u001b[0;34m(\u001b[0m\u001b[0;34m\"%s is not supported\"\u001b[0m \u001b[0;34m%\u001b[0m \u001b[0my_type\u001b[0m\u001b[0;34m)\u001b[0m\u001b[0;34m\u001b[0m\u001b[0;34m\u001b[0m\u001b[0m\n",
            "\u001b[0;32m/usr/local/lib/python3.6/dist-packages/sklearn/metrics/_classification.py\u001b[0m in \u001b[0;36m_check_targets\u001b[0;34m(y_true, y_pred)\u001b[0m\n\u001b[1;32m     95\u001b[0m     \u001b[0;31m# No metrics support \"multiclass-multioutput\" format\u001b[0m\u001b[0;34m\u001b[0m\u001b[0;34m\u001b[0m\u001b[0;34m\u001b[0m\u001b[0m\n\u001b[1;32m     96\u001b[0m     \u001b[0;32mif\u001b[0m \u001b[0;34m(\u001b[0m\u001b[0my_type\u001b[0m \u001b[0;32mnot\u001b[0m \u001b[0;32min\u001b[0m \u001b[0;34m[\u001b[0m\u001b[0;34m\"binary\"\u001b[0m\u001b[0;34m,\u001b[0m \u001b[0;34m\"multiclass\"\u001b[0m\u001b[0;34m,\u001b[0m \u001b[0;34m\"multilabel-indicator\"\u001b[0m\u001b[0;34m]\u001b[0m\u001b[0;34m)\u001b[0m\u001b[0;34m:\u001b[0m\u001b[0;34m\u001b[0m\u001b[0;34m\u001b[0m\u001b[0m\n\u001b[0;32m---> 97\u001b[0;31m         \u001b[0;32mraise\u001b[0m \u001b[0mValueError\u001b[0m\u001b[0;34m(\u001b[0m\u001b[0;34m\"{0} is not supported\"\u001b[0m\u001b[0;34m.\u001b[0m\u001b[0mformat\u001b[0m\u001b[0;34m(\u001b[0m\u001b[0my_type\u001b[0m\u001b[0;34m)\u001b[0m\u001b[0;34m)\u001b[0m\u001b[0;34m\u001b[0m\u001b[0;34m\u001b[0m\u001b[0m\n\u001b[0m\u001b[1;32m     98\u001b[0m \u001b[0;34m\u001b[0m\u001b[0m\n\u001b[1;32m     99\u001b[0m     \u001b[0;32mif\u001b[0m \u001b[0my_type\u001b[0m \u001b[0;32min\u001b[0m \u001b[0;34m[\u001b[0m\u001b[0;34m\"binary\"\u001b[0m\u001b[0;34m,\u001b[0m \u001b[0;34m\"multiclass\"\u001b[0m\u001b[0;34m]\u001b[0m\u001b[0;34m:\u001b[0m\u001b[0;34m\u001b[0m\u001b[0;34m\u001b[0m\u001b[0m\n",
            "\u001b[0;31mValueError\u001b[0m: continuous is not supported"
          ]
        }
      ]
    }
  ]
}