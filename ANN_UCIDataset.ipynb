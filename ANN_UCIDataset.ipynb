{
  "nbformat": 4,
  "nbformat_minor": 0,
  "metadata": {
    "colab": {
      "name": "ANN_UCIDataset.ipynb",
      "provenance": [],
      "collapsed_sections": [],
      "mount_file_id": "1ZHfozDN2i3YD4ZFG_aiQCJbUIqwEe9CJ",
      "authorship_tag": "ABX9TyNxmjyrJ8MT52306u1LFHZv",
      "include_colab_link": true
    },
    "kernelspec": {
      "name": "python3",
      "display_name": "Python 3"
    }
  },
  "cells": [
    {
      "cell_type": "markdown",
      "metadata": {
        "id": "view-in-github",
        "colab_type": "text"
      },
      "source": [
        "<a href=\"https://colab.research.google.com/github/pkn9663/Cognixia_Assignment/blob/master/ANN_UCIDataset.ipynb\" target=\"_parent\"><img src=\"https://colab.research.google.com/assets/colab-badge.svg\" alt=\"Open In Colab\"/></a>"
      ]
    },
    {
      "cell_type": "code",
      "metadata": {
        "id": "9SBfMJ0DtBti",
        "colab_type": "code",
        "colab": {}
      },
      "source": [
        "# importing libraries\n",
        "import pandas as pd\n",
        "import numpy as np"
      ],
      "execution_count": 0,
      "outputs": []
    },
    {
      "cell_type": "code",
      "metadata": {
        "id": "pQtq1BmmtVIi",
        "colab_type": "code",
        "colab": {}
      },
      "source": [
        "import os"
      ],
      "execution_count": 0,
      "outputs": []
    },
    {
      "cell_type": "code",
      "metadata": {
        "id": "smSve4mVtZCo",
        "colab_type": "code",
        "colab": {
          "base_uri": "https://localhost:8080/",
          "height": 34
        },
        "outputId": "1f14f98e-de71-407d-a86d-acf798beb5d7"
      },
      "source": [
        "os.getcwd()"
      ],
      "execution_count": 3,
      "outputs": [
        {
          "output_type": "execute_result",
          "data": {
            "text/plain": [
              "'/content'"
            ]
          },
          "metadata": {
            "tags": []
          },
          "execution_count": 3
        }
      ]
    },
    {
      "cell_type": "code",
      "metadata": {
        "id": "eQZ_5DbDty1Q",
        "colab_type": "code",
        "colab": {}
      },
      "source": [
        "files = [file for file in os.listdir('/content/drive/My Drive/Colab Notebooks/Deep Learning/DataSet')]"
      ],
      "execution_count": 0,
      "outputs": []
    },
    {
      "cell_type": "code",
      "metadata": {
        "id": "4R22AmJHt3Jf",
        "colab_type": "code",
        "colab": {
          "base_uri": "https://localhost:8080/",
          "height": 34
        },
        "outputId": "3f3fe6f3-3abc-4f52-b44b-94528af3b6b6"
      },
      "source": [
        "files"
      ],
      "execution_count": 21,
      "outputs": [
        {
          "output_type": "execute_result",
          "data": {
            "text/plain": [
              "['Book1.xlsx', 'Book2.xlsx', 'Book3.xlsx', 'Book4.xlsx', 'Book5.xlsx']"
            ]
          },
          "metadata": {
            "tags": []
          },
          "execution_count": 21
        }
      ]
    },
    {
      "cell_type": "code",
      "metadata": {
        "id": "sHtjniVbt4B_",
        "colab_type": "code",
        "colab": {
          "base_uri": "https://localhost:8080/",
          "height": 195
        },
        "outputId": "1783a253-a026-4ddc-f4b3-ea2203da1e87"
      },
      "source": [
        "df = pd.DataFrame()\n",
        "for file in files:\n",
        "  df1 = pd.read_excel('/content/drive/My Drive/Colab Notebooks/Deep Learning/DataSet/'+file)\n",
        "  data = pd.concat([df , df1])\n",
        "data.head()"
      ],
      "execution_count": 26,
      "outputs": [
        {
          "output_type": "execute_result",
          "data": {
            "text/html": [
              "<div>\n",
              "<style scoped>\n",
              "    .dataframe tbody tr th:only-of-type {\n",
              "        vertical-align: middle;\n",
              "    }\n",
              "\n",
              "    .dataframe tbody tr th {\n",
              "        vertical-align: top;\n",
              "    }\n",
              "\n",
              "    .dataframe thead th {\n",
              "        text-align: right;\n",
              "    }\n",
              "</style>\n",
              "<table border=\"1\" class=\"dataframe\">\n",
              "  <thead>\n",
              "    <tr style=\"text-align: right;\">\n",
              "      <th></th>\n",
              "      <th>AT</th>\n",
              "      <th>V</th>\n",
              "      <th>AP</th>\n",
              "      <th>RH</th>\n",
              "      <th>PE</th>\n",
              "    </tr>\n",
              "  </thead>\n",
              "  <tbody>\n",
              "    <tr>\n",
              "      <th>0</th>\n",
              "      <td>14.96</td>\n",
              "      <td>41.76</td>\n",
              "      <td>1024.07</td>\n",
              "      <td>73.17</td>\n",
              "      <td>463.26</td>\n",
              "    </tr>\n",
              "    <tr>\n",
              "      <th>1</th>\n",
              "      <td>25.18</td>\n",
              "      <td>62.96</td>\n",
              "      <td>1020.04</td>\n",
              "      <td>59.08</td>\n",
              "      <td>444.37</td>\n",
              "    </tr>\n",
              "    <tr>\n",
              "      <th>2</th>\n",
              "      <td>5.11</td>\n",
              "      <td>39.40</td>\n",
              "      <td>1012.16</td>\n",
              "      <td>92.14</td>\n",
              "      <td>488.56</td>\n",
              "    </tr>\n",
              "    <tr>\n",
              "      <th>3</th>\n",
              "      <td>20.86</td>\n",
              "      <td>57.32</td>\n",
              "      <td>1010.24</td>\n",
              "      <td>76.64</td>\n",
              "      <td>446.48</td>\n",
              "    </tr>\n",
              "    <tr>\n",
              "      <th>4</th>\n",
              "      <td>10.82</td>\n",
              "      <td>37.50</td>\n",
              "      <td>1009.23</td>\n",
              "      <td>96.62</td>\n",
              "      <td>473.90</td>\n",
              "    </tr>\n",
              "  </tbody>\n",
              "</table>\n",
              "</div>"
            ],
            "text/plain": [
              "      AT      V       AP     RH      PE\n",
              "0  14.96  41.76  1024.07  73.17  463.26\n",
              "1  25.18  62.96  1020.04  59.08  444.37\n",
              "2   5.11  39.40  1012.16  92.14  488.56\n",
              "3  20.86  57.32  1010.24  76.64  446.48\n",
              "4  10.82  37.50  1009.23  96.62  473.90"
            ]
          },
          "metadata": {
            "tags": []
          },
          "execution_count": 26
        }
      ]
    },
    {
      "cell_type": "code",
      "metadata": {
        "id": "A8G6pwwpv8Hk",
        "colab_type": "code",
        "colab": {
          "base_uri": "https://localhost:8080/",
          "height": 118
        },
        "outputId": "b4dc223f-ad8c-496c-a82f-a0017d97da79"
      },
      "source": [
        "data.count()"
      ],
      "execution_count": 27,
      "outputs": [
        {
          "output_type": "execute_result",
          "data": {
            "text/plain": [
              "AT    9568\n",
              "V     9568\n",
              "AP    9568\n",
              "RH    9568\n",
              "PE    9568\n",
              "dtype: int64"
            ]
          },
          "metadata": {
            "tags": []
          },
          "execution_count": 27
        }
      ]
    },
    {
      "cell_type": "code",
      "metadata": {
        "id": "mM_mbe8Bwf9D",
        "colab_type": "code",
        "colab": {
          "base_uri": "https://localhost:8080/",
          "height": 34
        },
        "outputId": "0edf3858-c822-4f48-8d00-db1f4ff60338"
      },
      "source": [
        "from sklearn.model_selection import train_test_split\n",
        "X_train , X_test , y_train , y_test = train_test_split(data.iloc[: , 0:4].values , \n",
        "                                                       data.iloc[: , 4:].values , \n",
        "                                                       test_size = 0.25 , \n",
        "                                                       random_state = 0)\n",
        "print(len(X_train) , len(X_test))"
      ],
      "execution_count": 48,
      "outputs": [
        {
          "output_type": "stream",
          "text": [
            "7176 2392\n"
          ],
          "name": "stdout"
        }
      ]
    },
    {
      "cell_type": "code",
      "metadata": {
        "id": "3rTtRT47ww6W",
        "colab_type": "code",
        "colab": {}
      },
      "source": [
        "from sklearn.preprocessing import StandardScaler\n",
        "scalar = StandardScaler()"
      ],
      "execution_count": 0,
      "outputs": []
    },
    {
      "cell_type": "code",
      "metadata": {
        "id": "F4qsAjlOzF7l",
        "colab_type": "code",
        "colab": {}
      },
      "source": [
        "X_train = scalar.fit_transform(X_train)\n",
        "X_test = scalar.transform(X_test)"
      ],
      "execution_count": 0,
      "outputs": []
    },
    {
      "cell_type": "code",
      "metadata": {
        "id": "lrRohMs7z9-f",
        "colab_type": "code",
        "colab": {
          "base_uri": "https://localhost:8080/",
          "height": 34
        },
        "outputId": "429a9379-5f5d-43ea-9c24-5bbff76b63e4"
      },
      "source": [
        "(data.iloc[: , 0:4].values).shape"
      ],
      "execution_count": 34,
      "outputs": [
        {
          "output_type": "execute_result",
          "data": {
            "text/plain": [
              "(9568, 4)"
            ]
          },
          "metadata": {
            "tags": []
          },
          "execution_count": 34
        }
      ]
    },
    {
      "cell_type": "markdown",
      "metadata": {
        "id": "rvxsrv59zS4V",
        "colab_type": "text"
      },
      "source": [
        "# ANN Part"
      ]
    },
    {
      "cell_type": "code",
      "metadata": {
        "id": "0ljuWdcdzNoP",
        "colab_type": "code",
        "colab": {}
      },
      "source": [
        "import keras\n",
        "from keras.models import Sequential\n",
        "from keras.layers import Dense\n",
        "model = Sequential()"
      ],
      "execution_count": 0,
      "outputs": []
    },
    {
      "cell_type": "code",
      "metadata": {
        "id": "CUjt-4KVzQrv",
        "colab_type": "code",
        "colab": {}
      },
      "source": [
        "model.add(Dense(units = 6 , activation= 'relu'))\n",
        "model.add(Dense(units = 6 , activation= 'relu'))"
      ],
      "execution_count": 0,
      "outputs": []
    },
    {
      "cell_type": "code",
      "metadata": {
        "id": "l__xALYY0MaS",
        "colab_type": "code",
        "colab": {}
      },
      "source": [
        "model.add(Dense(units = 1 , activation= None))"
      ],
      "execution_count": 0,
      "outputs": []
    },
    {
      "cell_type": "code",
      "metadata": {
        "id": "1Sqzy3l_0XGK",
        "colab_type": "code",
        "colab": {}
      },
      "source": [
        "model.compile(optimizer= 'adam' , loss = 'binary_crossentropy' , metrics= ['accuracy']*100)"
      ],
      "execution_count": 0,
      "outputs": []
    },
    {
      "cell_type": "code",
      "metadata": {
        "id": "3DPeDTVu2JjQ",
        "colab_type": "code",
        "colab": {
          "base_uri": "https://localhost:8080/",
          "height": 1000
        },
        "outputId": "c9ec9bb6-3219-4148-ddb8-9fe8fc204e99"
      },
      "source": [
        "model.fit(X_train , y_train , batch_size = 10 , epochs= 100)"
      ],
      "execution_count": 67,
      "outputs": [
        {
          "output_type": "stream",
          "text": [
            "Epoch 1/100\n",
            "7176/7176 [==============================] - 1s 126us/step - loss: -6951.1119 - accuracy: 8.3612e-04\n",
            "Epoch 2/100\n",
            "7176/7176 [==============================] - 1s 107us/step - loss: -6951.1119 - accuracy: 8.3612e-04\n",
            "Epoch 3/100\n",
            "7176/7176 [==============================] - 1s 108us/step - loss: -6951.1119 - accuracy: 8.3612e-04\n",
            "Epoch 4/100\n",
            "7176/7176 [==============================] - 1s 109us/step - loss: -6951.1119 - accuracy: 8.3612e-04\n",
            "Epoch 5/100\n",
            "7176/7176 [==============================] - 1s 109us/step - loss: -6951.1119 - accuracy: 8.3612e-04\n",
            "Epoch 6/100\n",
            "7176/7176 [==============================] - 1s 110us/step - loss: -6951.1119 - accuracy: 8.3612e-04\n",
            "Epoch 7/100\n",
            "7176/7176 [==============================] - 1s 108us/step - loss: -6951.1119 - accuracy: 8.3612e-04\n",
            "Epoch 8/100\n",
            "7176/7176 [==============================] - 1s 105us/step - loss: -6951.1119 - accuracy: 8.3612e-04\n",
            "Epoch 9/100\n",
            "7176/7176 [==============================] - 1s 118us/step - loss: -6951.1120 - accuracy: 8.3612e-04\n",
            "Epoch 10/100\n",
            "7176/7176 [==============================] - 1s 107us/step - loss: -6951.1119 - accuracy: 8.3612e-04\n",
            "Epoch 11/100\n",
            "7176/7176 [==============================] - 1s 110us/step - loss: -6951.1119 - accuracy: 8.3612e-04\n",
            "Epoch 12/100\n",
            "7176/7176 [==============================] - 1s 110us/step - loss: -6951.1119 - accuracy: 8.3612e-04\n",
            "Epoch 13/100\n",
            "7176/7176 [==============================] - 1s 105us/step - loss: -6951.1119 - accuracy: 8.3612e-04\n",
            "Epoch 14/100\n",
            "7176/7176 [==============================] - 1s 114us/step - loss: -6951.1119 - accuracy: 8.3612e-04\n",
            "Epoch 15/100\n",
            "7176/7176 [==============================] - 1s 105us/step - loss: -6951.1119 - accuracy: 8.3612e-04\n",
            "Epoch 16/100\n",
            "7176/7176 [==============================] - 1s 110us/step - loss: -6951.1119 - accuracy: 8.3612e-04\n",
            "Epoch 17/100\n",
            "7176/7176 [==============================] - 1s 119us/step - loss: -6951.1119 - accuracy: 8.3612e-04\n",
            "Epoch 18/100\n",
            "7176/7176 [==============================] - 1s 118us/step - loss: -6951.1119 - accuracy: 8.3612e-04\n",
            "Epoch 19/100\n",
            "7176/7176 [==============================] - 1s 118us/step - loss: -6951.1119 - accuracy: 8.3612e-04\n",
            "Epoch 20/100\n",
            "7176/7176 [==============================] - 1s 115us/step - loss: -6951.1119 - accuracy: 8.3612e-04\n",
            "Epoch 21/100\n",
            "7176/7176 [==============================] - 1s 121us/step - loss: -6951.1119 - accuracy: 8.3612e-04\n",
            "Epoch 22/100\n",
            "7176/7176 [==============================] - 1s 116us/step - loss: -6951.1119 - accuracy: 8.3612e-04\n",
            "Epoch 23/100\n",
            "7176/7176 [==============================] - 1s 116us/step - loss: -6951.1119 - accuracy: 8.3612e-04\n",
            "Epoch 24/100\n",
            "7176/7176 [==============================] - 1s 118us/step - loss: -6951.1119 - accuracy: 8.3612e-04\n",
            "Epoch 25/100\n",
            "7176/7176 [==============================] - 1s 117us/step - loss: -6951.1119 - accuracy: 8.3612e-04\n",
            "Epoch 26/100\n",
            "7176/7176 [==============================] - 1s 118us/step - loss: -6951.1119 - accuracy: 8.3612e-04\n",
            "Epoch 27/100\n",
            "7176/7176 [==============================] - 1s 119us/step - loss: -6951.1119 - accuracy: 8.3612e-04\n",
            "Epoch 28/100\n",
            "7176/7176 [==============================] - 1s 115us/step - loss: -6951.1119 - accuracy: 8.3612e-04\n",
            "Epoch 29/100\n",
            "7176/7176 [==============================] - 1s 117us/step - loss: -6951.1119 - accuracy: 8.3612e-04\n",
            "Epoch 30/100\n",
            "7176/7176 [==============================] - 1s 112us/step - loss: -6951.1119 - accuracy: 8.3612e-04\n",
            "Epoch 31/100\n",
            "7176/7176 [==============================] - 1s 110us/step - loss: -6951.1119 - accuracy: 8.3612e-04\n",
            "Epoch 32/100\n",
            "7176/7176 [==============================] - 1s 110us/step - loss: -6951.1119 - accuracy: 8.3612e-04\n",
            "Epoch 33/100\n",
            "7176/7176 [==============================] - 1s 116us/step - loss: -6951.1119 - accuracy: 8.3612e-04\n",
            "Epoch 34/100\n",
            "7176/7176 [==============================] - 1s 109us/step - loss: -6951.1119 - accuracy: 8.3612e-04\n",
            "Epoch 35/100\n",
            "7176/7176 [==============================] - 1s 109us/step - loss: -6951.1119 - accuracy: 8.3612e-04\n",
            "Epoch 36/100\n",
            "7176/7176 [==============================] - 1s 114us/step - loss: -6951.1119 - accuracy: 8.3612e-04\n",
            "Epoch 37/100\n",
            "7176/7176 [==============================] - 1s 119us/step - loss: -6951.1119 - accuracy: 8.3612e-04\n",
            "Epoch 38/100\n",
            "7176/7176 [==============================] - 1s 114us/step - loss: -6951.1119 - accuracy: 8.3612e-04\n",
            "Epoch 39/100\n",
            "7176/7176 [==============================] - 1s 112us/step - loss: -6951.1119 - accuracy: 8.3612e-04\n",
            "Epoch 40/100\n",
            "7176/7176 [==============================] - 1s 117us/step - loss: -6951.1119 - accuracy: 8.3612e-04\n",
            "Epoch 41/100\n",
            "7176/7176 [==============================] - 1s 115us/step - loss: -6951.1119 - accuracy: 8.3612e-04\n",
            "Epoch 42/100\n",
            "7176/7176 [==============================] - 1s 112us/step - loss: -6951.1119 - accuracy: 8.3612e-04\n",
            "Epoch 43/100\n",
            "7176/7176 [==============================] - 1s 116us/step - loss: -6951.1119 - accuracy: 8.3612e-04\n",
            "Epoch 44/100\n",
            "7176/7176 [==============================] - 1s 109us/step - loss: -6951.1119 - accuracy: 8.3612e-04\n",
            "Epoch 45/100\n",
            "7176/7176 [==============================] - 1s 118us/step - loss: -6951.1119 - accuracy: 8.3612e-04\n",
            "Epoch 46/100\n",
            "7176/7176 [==============================] - 1s 111us/step - loss: -6951.1119 - accuracy: 8.3612e-04\n",
            "Epoch 47/100\n",
            "7176/7176 [==============================] - 1s 110us/step - loss: -6951.1119 - accuracy: 8.3612e-04\n",
            "Epoch 48/100\n",
            "7176/7176 [==============================] - 1s 109us/step - loss: -6951.1119 - accuracy: 8.3612e-04\n",
            "Epoch 49/100\n",
            "7176/7176 [==============================] - 1s 108us/step - loss: -6951.1119 - accuracy: 8.3612e-04\n",
            "Epoch 50/100\n",
            "7176/7176 [==============================] - 1s 110us/step - loss: -6951.1119 - accuracy: 8.3612e-04\n",
            "Epoch 51/100\n",
            "7176/7176 [==============================] - 1s 112us/step - loss: -6951.1119 - accuracy: 8.3612e-04\n",
            "Epoch 52/100\n",
            "7176/7176 [==============================] - 1s 113us/step - loss: -6951.1119 - accuracy: 8.3612e-04\n",
            "Epoch 53/100\n",
            "7176/7176 [==============================] - 1s 115us/step - loss: -6951.1119 - accuracy: 8.3612e-04\n",
            "Epoch 54/100\n",
            "7176/7176 [==============================] - 1s 113us/step - loss: -6951.1119 - accuracy: 8.3612e-04\n",
            "Epoch 55/100\n",
            "7176/7176 [==============================] - 1s 109us/step - loss: -6951.1119 - accuracy: 8.3612e-04\n",
            "Epoch 56/100\n",
            "7176/7176 [==============================] - 1s 106us/step - loss: -6951.1119 - accuracy: 8.3612e-04\n",
            "Epoch 57/100\n",
            "7176/7176 [==============================] - 1s 109us/step - loss: -6951.1119 - accuracy: 8.3612e-04\n",
            "Epoch 58/100\n",
            "7176/7176 [==============================] - 1s 111us/step - loss: -6951.1119 - accuracy: 8.3612e-04\n",
            "Epoch 59/100\n",
            "7176/7176 [==============================] - 1s 122us/step - loss: -6951.1120 - accuracy: 8.3612e-04\n",
            "Epoch 60/100\n",
            "7176/7176 [==============================] - 1s 113us/step - loss: -6951.1119 - accuracy: 8.3612e-04\n",
            "Epoch 61/100\n",
            "7176/7176 [==============================] - 1s 110us/step - loss: -6951.1119 - accuracy: 8.3612e-04\n",
            "Epoch 62/100\n",
            "7176/7176 [==============================] - 1s 109us/step - loss: -6951.1119 - accuracy: 8.3612e-04\n",
            "Epoch 63/100\n",
            "7176/7176 [==============================] - 1s 108us/step - loss: -6951.1119 - accuracy: 8.3612e-04\n",
            "Epoch 64/100\n",
            "7176/7176 [==============================] - 1s 107us/step - loss: -6951.1119 - accuracy: 8.3612e-04\n",
            "Epoch 65/100\n",
            "7176/7176 [==============================] - 1s 110us/step - loss: -6951.1119 - accuracy: 8.3612e-04\n",
            "Epoch 66/100\n",
            "7176/7176 [==============================] - 1s 115us/step - loss: -6951.1119 - accuracy: 8.3612e-04\n",
            "Epoch 67/100\n",
            "7176/7176 [==============================] - 1s 111us/step - loss: -6951.1119 - accuracy: 8.3612e-04\n",
            "Epoch 68/100\n",
            "7176/7176 [==============================] - 1s 108us/step - loss: -6951.1119 - accuracy: 8.3612e-04\n",
            "Epoch 69/100\n",
            "7176/7176 [==============================] - 1s 110us/step - loss: -6951.1119 - accuracy: 8.3612e-04\n",
            "Epoch 70/100\n",
            "7176/7176 [==============================] - 1s 109us/step - loss: -6951.1119 - accuracy: 8.3612e-04\n",
            "Epoch 71/100\n",
            "7176/7176 [==============================] - 1s 111us/step - loss: -6951.1119 - accuracy: 8.3612e-04\n",
            "Epoch 72/100\n",
            "7176/7176 [==============================] - 1s 111us/step - loss: -6951.1119 - accuracy: 8.3612e-04\n",
            "Epoch 73/100\n",
            "7176/7176 [==============================] - 1s 117us/step - loss: -6951.1119 - accuracy: 8.3612e-04\n",
            "Epoch 74/100\n",
            "7176/7176 [==============================] - 1s 119us/step - loss: -6951.1119 - accuracy: 8.3612e-04\n",
            "Epoch 75/100\n",
            "7176/7176 [==============================] - 1s 118us/step - loss: -6951.1119 - accuracy: 8.3612e-04\n",
            "Epoch 76/100\n",
            "7176/7176 [==============================] - 1s 112us/step - loss: -6951.1119 - accuracy: 8.3612e-04\n",
            "Epoch 77/100\n",
            "7176/7176 [==============================] - 1s 111us/step - loss: -6951.1119 - accuracy: 8.3612e-04\n",
            "Epoch 78/100\n",
            "7176/7176 [==============================] - 1s 109us/step - loss: -6951.1119 - accuracy: 8.3612e-04\n",
            "Epoch 79/100\n",
            "7176/7176 [==============================] - 1s 111us/step - loss: -6951.1119 - accuracy: 8.3612e-04\n",
            "Epoch 80/100\n",
            "7176/7176 [==============================] - 1s 111us/step - loss: -6951.1119 - accuracy: 8.3612e-04\n",
            "Epoch 81/100\n",
            "7176/7176 [==============================] - 1s 116us/step - loss: -6951.1119 - accuracy: 8.3612e-04\n",
            "Epoch 82/100\n",
            "7176/7176 [==============================] - 1s 115us/step - loss: -6951.1119 - accuracy: 8.3612e-04\n",
            "Epoch 83/100\n",
            "7176/7176 [==============================] - 1s 108us/step - loss: -6951.1119 - accuracy: 8.3612e-04\n",
            "Epoch 84/100\n",
            "7176/7176 [==============================] - 1s 113us/step - loss: -6951.1119 - accuracy: 8.3612e-04\n",
            "Epoch 85/100\n",
            "7176/7176 [==============================] - 1s 112us/step - loss: -6951.1119 - accuracy: 8.3612e-04\n",
            "Epoch 86/100\n",
            "7176/7176 [==============================] - 1s 120us/step - loss: -6951.1119 - accuracy: 8.3612e-04\n",
            "Epoch 87/100\n",
            "7176/7176 [==============================] - 1s 110us/step - loss: -6951.1119 - accuracy: 8.3612e-04\n",
            "Epoch 88/100\n",
            "7176/7176 [==============================] - 1s 110us/step - loss: -6951.1119 - accuracy: 8.3612e-04\n",
            "Epoch 89/100\n",
            "7176/7176 [==============================] - 1s 110us/step - loss: -6951.1119 - accuracy: 8.3612e-04\n",
            "Epoch 90/100\n",
            "7176/7176 [==============================] - 1s 109us/step - loss: -6951.1119 - accuracy: 8.3612e-04\n",
            "Epoch 91/100\n",
            "7176/7176 [==============================] - 1s 118us/step - loss: -6951.1119 - accuracy: 8.3612e-04\n",
            "Epoch 92/100\n",
            "7176/7176 [==============================] - 1s 116us/step - loss: -6951.1119 - accuracy: 8.3612e-04\n",
            "Epoch 93/100\n",
            "7176/7176 [==============================] - 1s 111us/step - loss: -6951.1119 - accuracy: 8.3612e-04\n",
            "Epoch 94/100\n",
            "7176/7176 [==============================] - 1s 119us/step - loss: -6951.1119 - accuracy: 8.3612e-04\n",
            "Epoch 95/100\n",
            "7176/7176 [==============================] - 1s 116us/step - loss: -6951.1119 - accuracy: 8.3612e-04\n",
            "Epoch 96/100\n",
            "7176/7176 [==============================] - 1s 110us/step - loss: -6951.1119 - accuracy: 8.3612e-04\n",
            "Epoch 97/100\n",
            "7176/7176 [==============================] - 1s 109us/step - loss: -6951.1119 - accuracy: 8.3612e-04\n",
            "Epoch 98/100\n",
            "7176/7176 [==============================] - 1s 113us/step - loss: -6951.1119 - accuracy: 8.3612e-04\n",
            "Epoch 99/100\n",
            "7176/7176 [==============================] - 1s 110us/step - loss: -6951.1119 - accuracy: 8.3612e-04\n",
            "Epoch 100/100\n",
            "7176/7176 [==============================] - 1s 113us/step - loss: -6951.1119 - accuracy: 8.3612e-04\n"
          ],
          "name": "stdout"
        },
        {
          "output_type": "execute_result",
          "data": {
            "text/plain": [
              "<keras.callbacks.callbacks.History at 0x7f80c4220160>"
            ]
          },
          "metadata": {
            "tags": []
          },
          "execution_count": 67
        }
      ]
    },
    {
      "cell_type": "code",
      "metadata": {
        "id": "TkyG0QUb2SU1",
        "colab_type": "code",
        "colab": {}
      },
      "source": [
        "y_pred = model.predict(X_test)\n",
        "y_pred = (y_pred/100) > 50"
      ],
      "execution_count": 0,
      "outputs": []
    },
    {
      "cell_type": "code",
      "metadata": {
        "id": "O-4FucjQ5Yjr",
        "colab_type": "code",
        "colab": {
          "base_uri": "https://localhost:8080/",
          "height": 134
        },
        "outputId": "547e7883-7b0b-46bb-8cc9-7f6b5af05f34"
      },
      "source": [
        "y_pred"
      ],
      "execution_count": 63,
      "outputs": [
        {
          "output_type": "execute_result",
          "data": {
            "text/plain": [
              "array([[False],\n",
              "       [False],\n",
              "       [False],\n",
              "       ...,\n",
              "       [False],\n",
              "       [False],\n",
              "       [False]])"
            ]
          },
          "metadata": {
            "tags": []
          },
          "execution_count": 63
        }
      ]
    },
    {
      "cell_type": "code",
      "metadata": {
        "id": "x6yIJMPd3Sxl",
        "colab_type": "code",
        "colab": {
          "base_uri": "https://localhost:8080/",
          "height": 134
        },
        "outputId": "d5c6c594-9e35-4077-d9b0-3e14d51dba67"
      },
      "source": [
        "print(np.concatenate((y_pred , y_test),1))"
      ],
      "execution_count": 62,
      "outputs": [
        {
          "output_type": "stream",
          "text": [
            "[[  0.   431.23]\n",
            " [  0.   460.01]\n",
            " [  0.   461.14]\n",
            " ...\n",
            " [  0.   468.9 ]\n",
            " [  0.   473.9 ]\n",
            " [  0.   437.07]]\n"
          ],
          "name": "stdout"
        }
      ]
    },
    {
      "cell_type": "code",
      "metadata": {
        "id": "id2Oys2D3T1J",
        "colab_type": "code",
        "colab": {
          "base_uri": "https://localhost:8080/",
          "height": 252
        },
        "outputId": "3ad8291e-676e-4504-9127-3c9fa1e2b9cf"
      },
      "source": [
        "model.summary()"
      ],
      "execution_count": 58,
      "outputs": [
        {
          "output_type": "stream",
          "text": [
            "Model: \"sequential_2\"\n",
            "_________________________________________________________________\n",
            "Layer (type)                 Output Shape              Param #   \n",
            "=================================================================\n",
            "dense_6 (Dense)              (None, 6)                 30        \n",
            "_________________________________________________________________\n",
            "dense_7 (Dense)              (None, 6)                 42        \n",
            "_________________________________________________________________\n",
            "dense_8 (Dense)              (None, 1)                 7         \n",
            "=================================================================\n",
            "Total params: 79\n",
            "Trainable params: 79\n",
            "Non-trainable params: 0\n",
            "_________________________________________________________________\n"
          ],
          "name": "stdout"
        }
      ]
    },
    {
      "cell_type": "code",
      "metadata": {
        "id": "At_TRXCS4PAV",
        "colab_type": "code",
        "colab": {}
      },
      "source": [
        "import seaborn as sns\n",
        "from sklearn.metrics import confusion_matrix as cm , accuracy_score"
      ],
      "execution_count": 0,
      "outputs": []
    },
    {
      "cell_type": "code",
      "metadata": {
        "id": "tlR6uV5p46Hi",
        "colab_type": "code",
        "colab": {
          "base_uri": "https://localhost:8080/",
          "height": 303
        },
        "outputId": "aeb1407d-c4a1-4a76-cc63-a8407079dbd2"
      },
      "source": [
        "sns.heatmap(cm(y_test , y_pred) , annot = True)"
      ],
      "execution_count": 65,
      "outputs": [
        {
          "output_type": "error",
          "ename": "ValueError",
          "evalue": "ignored",
          "traceback": [
            "\u001b[0;31m---------------------------------------------------------------------------\u001b[0m",
            "\u001b[0;31mValueError\u001b[0m                                Traceback (most recent call last)",
            "\u001b[0;32m<ipython-input-65-285591816060>\u001b[0m in \u001b[0;36m<module>\u001b[0;34m()\u001b[0m\n\u001b[0;32m----> 1\u001b[0;31m \u001b[0msns\u001b[0m\u001b[0;34m.\u001b[0m\u001b[0mheatmap\u001b[0m\u001b[0;34m(\u001b[0m\u001b[0mcm\u001b[0m\u001b[0;34m(\u001b[0m\u001b[0my_test\u001b[0m \u001b[0;34m,\u001b[0m \u001b[0my_pred\u001b[0m\u001b[0;34m)\u001b[0m \u001b[0;34m,\u001b[0m \u001b[0mannot\u001b[0m \u001b[0;34m=\u001b[0m \u001b[0;32mTrue\u001b[0m\u001b[0;34m)\u001b[0m\u001b[0;34m\u001b[0m\u001b[0;34m\u001b[0m\u001b[0m\n\u001b[0m",
            "\u001b[0;32m/usr/local/lib/python3.6/dist-packages/sklearn/metrics/_classification.py\u001b[0m in \u001b[0;36mconfusion_matrix\u001b[0;34m(y_true, y_pred, labels, sample_weight, normalize)\u001b[0m\n\u001b[1;32m    266\u001b[0m \u001b[0;34m\u001b[0m\u001b[0m\n\u001b[1;32m    267\u001b[0m     \"\"\"\n\u001b[0;32m--> 268\u001b[0;31m     \u001b[0my_type\u001b[0m\u001b[0;34m,\u001b[0m \u001b[0my_true\u001b[0m\u001b[0;34m,\u001b[0m \u001b[0my_pred\u001b[0m \u001b[0;34m=\u001b[0m \u001b[0m_check_targets\u001b[0m\u001b[0;34m(\u001b[0m\u001b[0my_true\u001b[0m\u001b[0;34m,\u001b[0m \u001b[0my_pred\u001b[0m\u001b[0;34m)\u001b[0m\u001b[0;34m\u001b[0m\u001b[0;34m\u001b[0m\u001b[0m\n\u001b[0m\u001b[1;32m    269\u001b[0m     \u001b[0;32mif\u001b[0m \u001b[0my_type\u001b[0m \u001b[0;32mnot\u001b[0m \u001b[0;32min\u001b[0m \u001b[0;34m(\u001b[0m\u001b[0;34m\"binary\"\u001b[0m\u001b[0;34m,\u001b[0m \u001b[0;34m\"multiclass\"\u001b[0m\u001b[0;34m)\u001b[0m\u001b[0;34m:\u001b[0m\u001b[0;34m\u001b[0m\u001b[0;34m\u001b[0m\u001b[0m\n\u001b[1;32m    270\u001b[0m         \u001b[0;32mraise\u001b[0m \u001b[0mValueError\u001b[0m\u001b[0;34m(\u001b[0m\u001b[0;34m\"%s is not supported\"\u001b[0m \u001b[0;34m%\u001b[0m \u001b[0my_type\u001b[0m\u001b[0;34m)\u001b[0m\u001b[0;34m\u001b[0m\u001b[0;34m\u001b[0m\u001b[0m\n",
            "\u001b[0;32m/usr/local/lib/python3.6/dist-packages/sklearn/metrics/_classification.py\u001b[0m in \u001b[0;36m_check_targets\u001b[0;34m(y_true, y_pred)\u001b[0m\n\u001b[1;32m     88\u001b[0m     \u001b[0;32mif\u001b[0m \u001b[0mlen\u001b[0m\u001b[0;34m(\u001b[0m\u001b[0my_type\u001b[0m\u001b[0;34m)\u001b[0m \u001b[0;34m>\u001b[0m \u001b[0;36m1\u001b[0m\u001b[0;34m:\u001b[0m\u001b[0;34m\u001b[0m\u001b[0;34m\u001b[0m\u001b[0m\n\u001b[1;32m     89\u001b[0m         raise ValueError(\"Classification metrics can't handle a mix of {0} \"\n\u001b[0;32m---> 90\u001b[0;31m                          \"and {1} targets\".format(type_true, type_pred))\n\u001b[0m\u001b[1;32m     91\u001b[0m \u001b[0;34m\u001b[0m\u001b[0m\n\u001b[1;32m     92\u001b[0m     \u001b[0;31m# We can't have more than one value on y_type => The set is no more needed\u001b[0m\u001b[0;34m\u001b[0m\u001b[0;34m\u001b[0m\u001b[0;34m\u001b[0m\u001b[0m\n",
            "\u001b[0;31mValueError\u001b[0m: Classification metrics can't handle a mix of continuous and binary targets"
          ]
        }
      ]
    },
    {
      "cell_type": "code",
      "metadata": {
        "id": "3nffc1v15DDb",
        "colab_type": "code",
        "colab": {}
      },
      "source": [
        ""
      ],
      "execution_count": 0,
      "outputs": []
    }
  ]
}